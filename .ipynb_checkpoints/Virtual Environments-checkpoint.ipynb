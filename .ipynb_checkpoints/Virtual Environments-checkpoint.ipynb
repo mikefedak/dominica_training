{
 "cells": [
  {
   "cell_type": "markdown",
   "id": "17a80dfa",
   "metadata": {
    "slideshow": {
     "slide_type": "slide"
    }
   },
   "source": [
    "## Managing Virtual Environments \n",
    "\n",
    "In this lesson, we will learn:\n",
    "\n",
    "**What is a Virtual Environment and why we use them** \n",
    "\n",
    "**How to Create and Manage a Virtual Environment**\n",
    "1. Using the Anaconda Interface \n",
    "2. Using the Command Line\n",
    "\n",
    "**How to use a Virtual Environment**\n",
    "1. With Jupyter Notebook\n",
    "2. With an IDE"
   ]
  },
  {
   "cell_type": "markdown",
   "id": "6d9163e8",
   "metadata": {
    "slideshow": {
     "slide_type": "slide"
    }
   },
   "source": [
    "## What is a Virtual Environment?\n",
    "\n",
    "Recall the Python interpreter. Different Python Versions (e.g. 3.5 vs. 3.11) will have their own interpreter. \n",
    "\n",
    "Also recall how Python relies uses specific modules in packages:\n",
    "\n",
    "\n",
    "<img src=\"./python-packages-example.png\" alt=\"packages\" align=\"left\" width=\"500px\">\n",
    "<br clear=\"left\"/>\n",
    "\n",
    "Source: https://www.includehelp.com/python/packages.aspx \n",
    "\n",
    "\n",
    "\n"
   ]
  },
  {
   "cell_type": "markdown",
   "id": "bafa167c",
   "metadata": {
    "slideshow": {
     "slide_type": "slide"
    }
   },
   "source": [
    "## What is a Virtual Environment?\n",
    "\n",
    "These packages will have different versions and dependencies on other packages, sometimes with specific versions. \n",
    "\n",
    "This can become very complicated and conflicting dependencies can make running a notebook very difficult. \n",
    "\n",
    "<img src=\"./xkcd_dependencies.png\" alt=\"xkcd\" align=\"left\" width=\"500px\">\n",
    "<br clear=\"left\"/>\n",
    "Source: xkcd\n",
    "\n"
   ]
  },
  {
   "cell_type": "markdown",
   "id": "d8270b30",
   "metadata": {
    "slideshow": {
     "slide_type": "slide"
    }
   },
   "source": [
    "## Why use a Virtual Environment?\n",
    "\n",
    "To avoid these conflicts, we set up virtual environments. \n",
    "\n",
    "Up to now we have been using the \"base\" environment. We can declare any number of virtual python environments, each with their own interpreter. \n",
    "\n",
    "This fences off each interpreter and allows you to add specific packages with specific versions to each environment. \n",
    "\n",
    "Note that you can only use one environment at a time when working in python or running programs. So make sure that all packages you require for your notebook will be installed in the environment you are using for that notebook. You can use one environment for multiple notebooks. \n",
    "\n",
    "\n",
    "<img src=\"./venvs.png\" alt=\"virtual envs\" align=\"left\" width=\"500px\">\n",
    "<br clear=\"left\"/>\n",
    "\n",
    "Source: https://miro.medium.com/v2/resize:fit:1091/1*cAx4hY_TEGjbGN_ZcO9UKQ.png \n",
    "\n"
   ]
  },
  {
   "cell_type": "markdown",
   "id": "044e1577",
   "metadata": {
    "slideshow": {
     "slide_type": "slide"
    }
   },
   "source": [
    "## Creating a Virtual Environment \n",
    "*Using the Anaconda Interface*\n",
    "\n",
    "Open Anaconda and click on Environments. \n",
    "\n",
    "<img src=\"./anaconda_envs.png\" alt=\"creating virtual envs\" align=\"left\" width=\"1000px\">\n",
    "<br clear=\"left\"/>"
   ]
  },
  {
   "cell_type": "markdown",
   "id": "b1620755",
   "metadata": {
    "slideshow": {
     "slide_type": "subslide"
    }
   },
   "source": [
    "Click the arrow and you can see the pacakges installed in an environment and their version.\n",
    "\n",
    "Click the arrow again to show the menu. \n",
    "\n",
    "<img src=\"./anaconda_envs2.png\" alt=\"creating virtual envs 2\" align=\"left\" width=\"1000px\">\n",
    "<br clear=\"left\"/>"
   ]
  },
  {
   "cell_type": "markdown",
   "id": "b9bd6cd3",
   "metadata": {
    "slideshow": {
     "slide_type": "slide"
    }
   },
   "source": [
    "## Creating a Virtual Environment \n",
    "*Using the Anaconda Interface*\n",
    "\n",
    "1. Click **Create** (highlighted) to bring up the environment creation menu\n",
    "2. Enter a name for the new environment\n",
    "3. Select the version of Python you want to use ([install a version > 3.8, lower versions are no longer supported](https://devguide.python.org/versions/)). \n",
    "4. Click the create button in the environment creation menu. \n",
    "\n",
    "After you click _create_, anaconda will install the python interpreter and the basic packages needed for running python. \n",
    "\n",
    "\n",
    "<img src=\"./anaconda_envs3.png\" alt=\"creating virtual envs 3\" align=\"left\" width=\"1000px\">\n",
    "<br clear=\"left\"/>"
   ]
  },
  {
   "cell_type": "markdown",
   "id": "9a60ba5e",
   "metadata": {
    "slideshow": {
     "slide_type": "slide"
    }
   },
   "source": [
    "## Adding Packages to your Virtual Environment \n",
    "*Using the Anaconda Interface*\n",
    "\n",
    "There are several additional packages which come with your anaconda installation. To install these on your environment:\n",
    "\n",
    "1. Click in the space next to **channels** to open the packages menu dropdown\n",
    "2. Select \"All\". The list of packages will update to all packages available via anaconda (some may need to be downloaded)\n",
    "3. Select \"pandas\" and \"geopandas-base\", you can use the search bar on the right to search by name\n",
    "4. Click on **Apply** to install these packages on your environment. \n",
    "5. Anaconda will provide a solution for the packages and versions which need to be installed to avoid conflicts. Click Apply. Incase you receive an error, you may need to try and different version of the package or a different version of the python interpreter\n",
    "6. From the packages menu dropdown, click on \"installed\". Notice that pandas and geopandas are installed, along with their dependencies. \n",
    "\n",
    "\n",
    "<img src=\"./anaconda_pkgs2.png\" alt=\"anaconda packages install\" align=\"left\" width=\"1000px\">\n",
    "<br clear=\"left\"/>"
   ]
  },
  {
   "cell_type": "markdown",
   "id": "2363fd01",
   "metadata": {
    "slideshow": {
     "slide_type": "slide"
    }
   },
   "source": [
    "## Managing Virtual Environments\n",
    "*Using the Command Line*\n",
    "\n",
    "1. Open the Anaconda Prompt from the apps/start menu.\n",
    "\n",
    "<img src=\"./anaconda_prompt.png\" alt=\"anaconda prompt\" align=\"left\" width=\"200px\">\n",
    "<br clear=\"left\"/>\n",
    "\n",
    "2. This opens the command line, note that the current environment is in parentheses \n",
    "\n",
    "<img src=\"./anaconda_cmd.png\" alt=\"anaconda cmd\" align=\"left\" width=\"200px\">\n",
    "<br clear=\"left\"/>\n",
    "\n",
    "3. Recall that conda is the package manager for Anaconda. It also manages the virtual environments\n",
    "* Switch to your virtual environment from the base environment using ```conda activate Training```\n",
    "\n",
    "4. The name of the environment in parentheses will change to the env you entered. \n",
    "* ```conda update conda``` will update all packages to the latest non-conflicting versions \n",
    "\n"
   ]
  },
  {
   "cell_type": "markdown",
   "id": "9e1bbcbe",
   "metadata": {
    "slideshow": {
     "slide_type": "slide"
    }
   },
   "source": [
    "## Adding Packages to your Virtual Environments\n",
    "*Using the Command Line*\n",
    "\n",
    "Your Anacondas installation will not have all of the available packages. The conda and pip package managers will give access to a greater amount of packages and installation options. \n",
    "\n",
    "Lets install rasterio using conda:\n",
    "\n",
    "1. Ensure you are in the current virtual environment (the package will install in the active env, unless you specify otherwise)\n",
    "2. Type ```conda install rasterio``` and press enter. Notice that this fails. Conda is unable to resolve conflicts due to having a limited selection of available packages without downgrading some packages, using the ``` --no-pin``` flag may resolve this error, or use a different pacakage manager (pip)\n",
    "3. Now try to install rasterio using pip ```pip install rasterio```\n",
    "\n",
    "pip succeeds where conda failed because it has a larger repository of packages, and it does not prevent downgrading. If you do not need conflicting packages in the same environment, then use a different environment. _Remember though_ a notebook uses a single virtual environment. \n",
    "\n",
    "More resources: https://conda.io/projects/conda/en/latest/user-guide/tasks/manage-environments.html"
   ]
  },
  {
   "cell_type": "markdown",
   "id": "4f80bb4a",
   "metadata": {},
   "source": [
    "## Notebook Virtual Environments\n",
    "\n",
    "1. Check if ipykernel is installed ```conda list ipykernel```\n",
    "* If no Name is returned, it is not installed \n",
    "2. Use conda to install ipykernel ```conda install ipykernel```\n",
    "* type y to agree to install ipykernel and dependencies \n",
    "3. Now install the virtual environment you've created into Jupyter Notebook by creating a new kernel ```python -m ipykernel install --user --name=Training```\n",
    "4. You need to restart Jupyter to be able to use the new kernel. If successful, you will see it in the dropdown for New Notebooks:\n",
    "<img src=\"./kernel_select.png\" alt=\"anaconda packages install\" align=\"left\" width=\"200px\">\n",
    "<br clear=\"left\"/>\n",
    "\n",
    "Note that you can also change the kernel from within a running notebook:\n",
    "\n",
    "<img src=\"./change_kernel.png\" alt=\"anaconda packages install\" align=\"left\" width=\"200px\">\n",
    "<br clear=\"left\"/>"
   ]
  }
 ],
 "metadata": {
  "celltoolbar": "Slideshow",
  "kernelspec": {
   "display_name": "Python 3 (ipykernel)",
   "language": "python",
   "name": "python3"
  },
  "language_info": {
   "codemirror_mode": {
    "name": "ipython",
    "version": 3
   },
   "file_extension": ".py",
   "mimetype": "text/x-python",
   "name": "python",
   "nbconvert_exporter": "python",
   "pygments_lexer": "ipython3",
   "version": "3.9.18"
  }
 },
 "nbformat": 4,
 "nbformat_minor": 5
}
