{
 "cells": [
  {
   "cell_type": "markdown",
   "id": "e530dff1",
   "metadata": {
    "slideshow": {
     "slide_type": "slide"
    }
   },
   "source": [
    "## Dependencies and Imports\n",
    "\n",
    "In almost every python program, you will see **import** commands. \n",
    "\n",
    "These commands tell the interpreter to add code from some other source. This can be as simple as a config file housing variables to complex libraries for scientific computing. \n",
    "\n",
    "Anyone can create code that can be imported. However, there are package repositories with associated package management software. Anaconda has the conda package manager and repository, however the most widely used manager and repository is pip. \n"
   ]
  },
  {
   "cell_type": "markdown",
   "id": "647bbc92",
   "metadata": {
    "slideshow": {
     "slide_type": "slide"
    }
   },
   "source": [
    "## Key Terminology \n",
    "\n",
    "These are the key terms and concepts you need to know. We tend to call anything we import a \"package\", however there are vastly different scales of complexity between \"packages\". \n",
    "\n",
    "### Module\n",
    "   - Related code saved usually in a single python file. \n",
    "   - Tend to be single purpose (regular expressions, html parser). \n",
    "   - Seperates \"helper\" functions from your code. \n"
   ]
  },
  {
   "cell_type": "markdown",
   "id": "8fb07147",
   "metadata": {
    "slideshow": {
     "slide_type": "subslide"
    }
   },
   "source": [
    "### Package\n",
    "   - A collection of modules. \n",
    "   - Can import specific modules **from** a package\n",
    "  \n",
    "   \n",
    "``` Python\n",
    "from numpy import array \n",
    "```   \n",
    "\n",
    "- In this example, only the array module is being imported from the Numerical Python (numpy) package. \n",
    "- Importing only what you need is a good way to improve performance. \n",
    "   \n",
    "   \n",
    "<img src=\"python-packages-example.png\" width=\"500px\" height=\"500px\" align=\"left\"></img>\n"
   ]
  },
  {
   "cell_type": "markdown",
   "id": "3df9bad0",
   "metadata": {
    "slideshow": {
     "slide_type": "subslide"
    }
   },
   "source": [
    "### Library \n",
    "\n",
    "- A Library is a collection of packages. \n",
    "- Tend to be complex and multi-functional\n",
    "- For example: Pandas and geopandas are libraries which provide tools for data science and management. \n"
   ]
  },
  {
   "cell_type": "markdown",
   "id": "cce1fd09",
   "metadata": {
    "slideshow": {
     "slide_type": "subslide"
    }
   },
   "source": [
    "### Framework \n",
    "\n",
    "- A framework provides a set of libraries, packages and modules to be used as a foundation for building your own application. \n",
    "- Similar in complexity to a library but more focused to a specific application. \n",
    "- A relevant example is Django, which is a web development framework on which DomiNode is built. \n",
    "\n"
   ]
  },
  {
   "cell_type": "markdown",
   "id": "9bfcd729",
   "metadata": {
    "slideshow": {
     "slide_type": "slide"
    }
   },
   "source": [
    "## Using Packages \n",
    "\n",
    "#### System Packages - Included with the basic Python installation (Standard Library). See [here](https://docs.python.org/3/library/index.html)\n",
    "#### Non-System Packages - From a package repository or built from source and installed in an environment."
   ]
  },
  {
   "cell_type": "code",
   "execution_count": 1,
   "id": "2fa12bdb",
   "metadata": {
    "slideshow": {
     "slide_type": "subslide"
    }
   },
   "outputs": [
    {
     "name": "stdout",
     "output_type": "stream",
     "text": [
      "\n",
      "Please wait a moment while I gather a list of all available modules...\n",
      "\n"
     ]
    },
    {
     "name": "stderr",
     "output_type": "stream",
     "text": [
      "C:\\Users\\mikef\\anaconda3\\lib\\site-packages\\paramiko\\transport.py:219: CryptographyDeprecationWarning: Blowfish has been deprecated\n",
      "  \"class\": algorithms.Blowfish,\n",
      "C:\\Users\\mikef\\anaconda3\\lib\\site-packages\\libpysal\\cg\\alpha_shapes.py:39: NumbaDeprecationWarning: \u001b[1mThe 'nopython' keyword argument was not supplied to the 'numba.jit' decorator. The implicit default value for this argument is currently False, but it will be changed to True in Numba 0.59.0. See https://numba.readthedocs.io/en/stable/reference/deprecation.html#deprecation-of-object-mode-fall-back-behaviour-when-using-jit for details.\u001b[0m\n",
      "  def nb_dist(x, y):\n",
      "C:\\Users\\mikef\\anaconda3\\lib\\site-packages\\libpysal\\cg\\alpha_shapes.py:165: NumbaDeprecationWarning: \u001b[1mThe 'nopython' keyword argument was not supplied to the 'numba.jit' decorator. The implicit default value for this argument is currently False, but it will be changed to True in Numba 0.59.0. See https://numba.readthedocs.io/en/stable/reference/deprecation.html#deprecation-of-object-mode-fall-back-behaviour-when-using-jit for details.\u001b[0m\n",
      "  def get_faces(triangle):\n",
      "C:\\Users\\mikef\\anaconda3\\lib\\site-packages\\libpysal\\cg\\alpha_shapes.py:199: NumbaDeprecationWarning: \u001b[1mThe 'nopython' keyword argument was not supplied to the 'numba.jit' decorator. The implicit default value for this argument is currently False, but it will be changed to True in Numba 0.59.0. See https://numba.readthedocs.io/en/stable/reference/deprecation.html#deprecation-of-object-mode-fall-back-behaviour-when-using-jit for details.\u001b[0m\n",
      "  def build_faces(faces, triangles_is, num_triangles, num_faces_single):\n",
      "C:\\Users\\mikef\\anaconda3\\lib\\site-packages\\libpysal\\cg\\alpha_shapes.py:261: NumbaDeprecationWarning: \u001b[1mThe 'nopython' keyword argument was not supplied to the 'numba.jit' decorator. The implicit default value for this argument is currently False, but it will be changed to True in Numba 0.59.0. See https://numba.readthedocs.io/en/stable/reference/deprecation.html#deprecation-of-object-mode-fall-back-behaviour-when-using-jit for details.\u001b[0m\n",
      "  def nb_mask_faces(mask, faces):\n",
      "C:\\Users\\mikef\\anaconda3\\lib\\site-packages\\nltk\\twitter\\__init__.py:20: UserWarning: The twython library has not been installed. Some functionality from the twitter package will not be available.\n",
      "  warnings.warn(\n",
      "C:\\Users\\mikef\\anaconda3\\lib\\pkgutil.py:93: NumbaPendingDeprecationWarning: \u001b[1mThe 'pycc' module is pending deprecation. Replacement technology is being developed.\n",
      "\n",
      "Pending Deprecation in Numba 0.57.0. For more information please see: https://numba.readthedocs.io/en/stable/reference/deprecation.html#deprecation-of-the-numba-pycc-module\u001b[0m\n",
      "  __import__(info.name)\n",
      "C:\\Users\\mikef\\anaconda3\\lib\\pkgutil.py:93: UserWarning: The numpy.array_api submodule is still experimental. See NEP 47.\n",
      "  __import__(info.name)\n",
      "C:\\Users\\mikef\\anaconda3\\lib\\site-packages\\_distutils_hack\\__init__.py:33: UserWarning: Setuptools is replacing distutils.\n",
      "  warnings.warn(\"Setuptools is replacing distutils.\")\n",
      "C:\\Users\\mikef\\anaconda3\\lib\\pkgutil.py:93: UserWarning:\n",
      "\n",
      "viewer requires Qt\n",
      "\n",
      "No QCoreApplication instance found. Application patches not applied. You have to call load_stylesheet function after instantiation of QApplication to take effect. \n",
      "C:\\Users\\mikef\\anaconda3\\lib\\site-packages\\torch\\distributed\\_shard\\checkpoint\\__init__.py:8: DeprecationWarning:\n",
      "\n",
      "torch.distributed._shard.checkpoint will be deprecated, use torch.distributed.checkpoint instead\n",
      "\n",
      "C:\\Users\\mikef\\anaconda3\\lib\\site-packages\\torch\\distributed\\_sharded_tensor\\__init__.py:8: DeprecationWarning:\n",
      "\n",
      "torch.distributed._sharded_tensor will be deprecated, use torch.distributed._shard.sharded_tensor instead\n",
      "\n",
      "C:\\Users\\mikef\\anaconda3\\lib\\site-packages\\torch\\distributed\\_sharding_spec\\__init__.py:8: DeprecationWarning:\n",
      "\n",
      "torch.distributed._sharding_spec will be deprecated, use torch.distributed._shard.sharding_spec instead\n",
      "\n",
      "NOTE: Redirects are currently not supported in Windows or MacOs.\n",
      "C:\\Users\\mikef\\anaconda3\\lib\\site-packages\\traittypes\\traittypes.py:20: DeprecationWarning:\n",
      "\n",
      "\n",
      "            Sentinel is not a public part of the traitlets API.\n",
      "            It was published by mistake, and may be removed in the future.\n",
      "            \n",
      "\n"
     ]
    },
    {
     "name": "stdout",
     "output_type": "stream",
     "text": [
      "IPython             conda               mimetypes           smtpd\n",
      "OpenSSL             conda_build         mistune             smtplib\n",
      "PIL                 conda_content_trust mkl                 snappy\n",
      "PyQt5               conda_env           mkl_fft             sndhdr\n",
      "TBB                 conda_libmamba_solver mmap                sniffio\n",
      "__future__          conda_package_handling mmapfile            snowballstemmer\n",
      "_abc                conda_package_streaming mmsystem            snuggs\n",
      "_aix_support        conda_token         modulefinder        socket\n",
      "_argon2_cffi_bindings conda_verify        more_itertools      socketserver\n",
      "_ast                configparser        mpmath              socks\n",
      "_asyncio            constantly          msgpack             sockshandler\n",
      "_bisect             contextlib          msilib              sortedcontainers\n",
      "_black_version      contextvars         msvcrt              soupsieve\n",
      "_blake2             contourpy           multidict           sphinx\n",
      "_bootlocale         cookiecutter        multipledispatch    spyder\n",
      "_bootsubprocess     copy                multiprocessing     spyder_kernels\n",
      "_brotli             copyreg             munch               sqlalchemy\n",
      "_bz2                cpuinfo             munkres             sqlite3\n",
      "_cffi_backend       crypt               mypy_extensions     sre_compile\n",
      "_codecs             cryptography        nacl                sre_constants\n",
      "_codecs_cn          cssselect           navigator_updater   sre_parse\n",
      "_codecs_hk          csv                 nbclassic           ssl\n",
      "_codecs_iso2022     ctypes              nbclient            sspi\n",
      "_codecs_jp          curl                nbconvert           sspicon\n",
      "_codecs_kr          curses              nbformat            stack_data\n",
      "_codecs_tw          cwp                 nest_asyncio        stat\n",
      "_collections        cycler              netbios             statistics\n",
      "_collections_abc    cytoolz             netrc               statsmodels\n",
      "_compat_pickle      daal4py             networkx            string\n",
      "_compression        dask                nltk                stringprep\n",
      "_contextvars        dataclasses         nntplib             struct\n",
      "_csv                datashader          notebook            subprocess\n",
      "_ctypes             datetime            notebook_shim       sunau\n",
      "_ctypes_test        dateutil            nt                  symbol\n",
      "_datetime           dbi                 ntpath              sympy\n",
      "_decimal            dbm                 ntsecuritycon       symtable\n",
      "_distutils_hack     dde                 nturl2path          sys\n",
      "_elementtree        debugpy             numba               sysconfig\n",
      "_functools          decimal             numbergen           tables\n",
      "_hashlib            decorator           numbers             tabnanny\n",
      "_heapq              defusedxml          numexpr             tabulate\n",
      "_imp                diff_match_patch    numpy               tarfile\n",
      "_io                 difflib             numpydoc            tbb\n",
      "_json               dill                odbc                tblib\n",
      "_locale             dis                 onedal              telnetlib\n",
      "_lsprof             distributed         opcode              tempfile\n",
      "_lzma               distutils           openpyxl            tenacity\n",
      "_markupbase         docstring_to_markdown operator            terminado\n",
      "_md5                doctest             optparse            test\n",
      "_msi                docutils            os                  test_pycosat\n",
      "_multibytecodec     dotenv              overrides           text_unidecode\n",
      "_multiprocessing    email               owslib              textdistance\n",
      "_nsis               encodings           packaging           textwrap\n",
      "_opcode             ensurepip           pandas              this\n",
      "_operator           entrypoints         pandocfilters       threading\n",
      "_osx_support        enum                panel               threadpoolctl\n",
      "_overlapped         erfa                param               three_merge\n",
      "_peg_parser         errno               paramiko            tifffile\n",
      "_pickle             et_xmlfile          parsel              time\n",
      "_plotly_future_     exceptiongroup      parser              timeit\n",
      "_plotly_utils       executing           parso               timer\n",
      "_py_abc             fastjsonschema      partd               tinycss2\n",
      "_pydecimal          faulthandler        past                tkinter\n",
      "_pyio               filecmp             pathlib             tldextract\n",
      "_pytest             fileinput           pathspec            tlz\n",
      "_queue              filelock            patsy               tobler\n",
      "_random             find_dates          pdb                 token\n",
      "_ruamel_yaml        fiona               pep8                tokenize\n",
      "_sha1               flake8              perfmon             tokenizers\n",
      "_sha256             flask               pexpect             toml\n",
      "_sha3               fnmatch             pickle              tomli\n",
      "_sha512             fontTools           pickleshare         tomlkit\n",
      "_signal             formatter           pickletools         toolz\n",
      "_sitebuiltins       fractions           pip                 torch\n",
      "_socket             frozenlist          pipes               torchgen\n",
      "_sqlite3            fsspec              pkce                tornado\n",
      "_sre                ftplib              pkg_resources       tqdm\n",
      "_ssl                functools           pkginfo             trace\n",
      "_stat               functorch           pkgutil             traceback\n",
      "_statistics         future              platform            tracemalloc\n",
      "_string             gc                  platformdirs        traitlets\n",
      "_strptime           genericpath         plistlib            traittypes\n",
      "_struct             gensim              plotly              transformers\n",
      "_symtable           geoalchemy2         pluggy              tty\n",
      "_system_path        geopandas           ply                 turtle\n",
      "_testbuffer         getopt              poplib              turtledemo\n",
      "_testcapi           getpass             posixpath           twisted\n",
      "_testconsole        gettext             poyo                types\n",
      "_testimportmultiple glob                pprint              typing\n",
      "_testinternalcapi   glob2               profile             typing_extensions\n",
      "_testmultiphase     graphlib            prometheus_client   tzdata\n",
      "_thread             greenlet            prompt_toolkit      ujson\n",
      "_threading_local    gzip                protego             unicodedata\n",
      "_tkinter            h5py                pstats              unidecode\n",
      "_tracemalloc        hashlib             psutil              unittest\n",
      "_uuid               heapdict            psycopg2            urllib\n",
      "_warnings           heapq               pty                 urllib3\n",
      "_weakref            hmac                ptyprocess          usgs_data\n",
      "_weakrefset         holoviews           pure_eval           uu\n",
      "_win32sysloader     html                py                  uuid\n",
      "_winapi             http                py_compile          venv\n",
      "_winxptheme         huggingface_hub     pyasn1              w3lib\n",
      "_xxsubinterpreters  hvplot              pyasn1_modules      warnings\n",
      "_yaml               hyperlink           pyclbr              watchdog\n",
      "_zoneinfo           idlelib             pycodestyle         wave\n",
      "abc                 idna                pycosat             wcwidth\n",
      "adodbapi            imagecodecs         pycparser           weakref\n",
      "affine              imageio             pyct                webbrowser\n",
      "afxres              imagesize           pycurl              webencodings\n",
      "aifc                imaplib             pydantic            websocket\n",
      "aiobotocore         imblearn            pydispatch          werkzeug\n",
      "aiofiles            imghdr              pydoc               whatthepatch\n",
      "aiohttp             imp                 pydoc_data          wheel\n",
      "aioitertools        importlib           pydocstyle          widgetsnbextension\n",
      "aiosignal           importlib_metadata  pyexpat             win2kras\n",
      "aiosqlite           importlib_resources pyflakes            win32api\n",
      "alabaster           incremental         pygments            win32clipboard\n",
      "anaconda_anon_usage inflection          pylab               win32com\n",
      "anaconda_cloud_auth iniconfig           pylint              win32con\n",
      "anaconda_navigator  inspect             pylint_venv         win32console\n",
      "antigravity         intake              pyls_spyder         win32cred\n",
      "anyio               intervaltree        pylsp               win32crypt\n",
      "appdirs             io                  pylsp_black         win32cryptcon\n",
      "archspec            ipaddress           pylsp_jsonrpc       win32ctypes\n",
      "argon2              ipykernel           pyodbc              win32event\n",
      "argparse            ipykernel_launcher  pyparsing           win32evtlog\n",
      "array               ipyleaflet          pyproj              win32evtlogutil\n",
      "arrow               ipython_genutils    pytest              win32file\n",
      "ast                 ipywidgets          pythoncom           win32gui\n",
      "astroid             isapi               pythonjsonlogger    win32gui_struct\n",
      "astropy             isort               pytoolconfig        win32help\n",
      "asttokens           isympy              pytz                win32inet\n",
      "async_timeout       itemadapter         pyviz_comms         win32inetcon\n",
      "asynchat            itemloaders         pywin               win32job\n",
      "asyncio             itertools           pywin32_bootstrap   win32lz\n",
      "asyncore            itsdangerous        pywin32_testutil    win32net\n",
      "atexit              jedi                pywintypes          win32netcon\n",
      "atomicwrites        jellyfish           pywt                win32pdh\n",
      "attr                jinja2              qdarkstyle          win32pdhquery\n",
      "attrs               jinja2_time         qstylizer           win32pdhutil\n",
      "audioop             jmespath            qtawesome           win32pipe\n",
      "automat             joblib              qtconsole           win32print\n",
      "autopep8            json                qtpy                win32process\n",
      "babel               json5               queue               win32profile\n",
      "backcall            jsonpatch           queuelib            win32ras\n",
      "backports           jsonpointer         quopri              win32rcparser\n",
      "base64              jsonschema          random              win32security\n",
      "bcrypt              jsonschema_specifications rasterio            win32service\n",
      "bdb                 jupyter             rasterstats         win32serviceutil\n",
      "binaryornot         jupyter_client      rasutil             win32timezone\n",
      "binascii            jupyter_console     re                  win32trace\n",
      "binhex              jupyter_core        referencing         win32traceutil\n",
      "binstar_client      jupyter_events      regcheck            win32transaction\n",
      "bisect              jupyter_server      regex               win32ts\n",
      "black               jupyter_server_fileid regutil             win32ui\n",
      "blackd              jupyter_server_terminals repo_cli            win32uiole\n",
      "bleach              jupyter_server_ydoc reprlib             win32verstamp\n",
      "blib2to3            jupyter_ydoc        requests            win32wnet\n",
      "bokeh               jupyterlab          requests_file       win_inet_pton\n",
      "boltons             jupyterlab_plotly   requests_toolbelt   winerror\n",
      "botocore            jupyterlab_pygments rfc3339_validator   winioctlcon\n",
      "bottleneck          jupyterlab_server   rfc3986_validator   winnt\n",
      "branca              jupyterlab_widgets  rlcompleter         winperf\n",
      "brotli              jwt                 rope                winpty\n",
      "bs4                 kaleido             rpds                winreg\n",
      "builtins            keyring             rtree               winsound\n",
      "bz2                 keyword             runpy               winxpgui\n",
      "cProfile            kiwisolver          s3fs                winxptheme\n",
      "calendar            lazy_object_proxy   sched               wrapt\n",
      "certifi             lib2to3             scipy               wsgiref\n",
      "cffi                libarchive          scrapy              xarray\n",
      "cgi                 libfuturize         seaborn             xdrlib\n",
      "cgitb               libmambapy          secrets             xlwings\n",
      "chardet             libpasteurize       select              xml\n",
      "charset_normalizer  libpysal            selectors           xmlrpc\n",
      "chunk               lief                semver              xxsubtype\n",
      "click               linecache           send2trash          xyzservices\n",
      "click_plugins       llvmlite            service_identity    y_py\n",
      "cligj               lmdb                servicemanager      yaml\n",
      "cloudpickle         locale              setuptools          yapf\n",
      "clyent              locket              shapely             yapftests\n",
      "cmath               logging             shelve              yarl\n",
      "cmd                 lxml                shlex               ypy_websocket\n",
      "code                lzma                shutil              zict\n",
      "codecs              mailbox             signal              zipapp\n",
      "codeop              mailcap             simplejson          zipfile\n",
      "collections         markdown            sipbuild            zipimport\n",
      "colorama            markupsafe          site                zipp\n",
      "colorcet            marshal             six                 zlib\n",
      "colorsys            math                skimage             zmq\n",
      "comm                matplotlib          sklearn             zoneinfo\n",
      "commctrl            matplotlib_inline   sklearnex           zope\n",
      "compileall          mccabe              slugify             zstandard\n",
      "concurrent          menuinst            smart_open          \n",
      "\n",
      "Enter any module name to get more help.  Or, type \"modules spam\" to search\n",
      "for modules whose name or summary contain the string \"spam\".\n",
      "\n"
     ]
    }
   ],
   "source": [
    "# To find all installed modules in your python environment (can take a while to load)\n",
    "\n",
    "help(\"modules\")"
   ]
  },
  {
   "cell_type": "markdown",
   "id": "c619ce68",
   "metadata": {
    "slideshow": {
     "slide_type": "subslide"
    }
   },
   "source": [
    "### You can also use the Anaconda Interface to find the installed packages\n",
    "\n",
    "<img src=\"anaconda_packages.png\" width=\"800px\" height=\"800px\" align=\"left\"></img>\n",
    "\n",
    "\n"
   ]
  },
  {
   "cell_type": "markdown",
   "id": "3bc3aea9",
   "metadata": {
    "slideshow": {
     "slide_type": "slide"
    }
   },
   "source": [
    "### Importing Packages \n",
    "\n",
    "To import a package to your program, do the following:\n",
    "\n",
    "```Python\n",
    "import pathlib\n",
    "```\n",
    "This will import the Pathlib system package. \n",
    "\n",
    "To import a specific module from a package:\n",
    "```Python\n",
    "from pathlib import Path\n",
    "```\n",
    "This will import the Path module from pathlib\n",
    "\n",
    "If we look at the the ML notebook, you will see it has several packages which need to be available. Some are system packages and other external. If a module is not available, python will give an error, see the following example:\n"
   ]
  },
  {
   "cell_type": "code",
   "execution_count": 2,
   "id": "4cf29eb4",
   "metadata": {
    "slideshow": {
     "slide_type": "subslide"
    }
   },
   "outputs": [
    {
     "ename": "ModuleNotFoundError",
     "evalue": "No module named 'zgyxch'",
     "output_type": "error",
     "traceback": [
      "\u001b[1;31m---------------------------------------------------------------------------\u001b[0m",
      "\u001b[1;31mModuleNotFoundError\u001b[0m                       Traceback (most recent call last)",
      "Cell \u001b[1;32mIn[2], line 1\u001b[0m\n\u001b[1;32m----> 1\u001b[0m \u001b[38;5;28;01mimport\u001b[39;00m \u001b[38;5;21;01mzgyxch\u001b[39;00m\n",
      "\u001b[1;31mModuleNotFoundError\u001b[0m: No module named 'zgyxch'"
     ]
    }
   ],
   "source": [
    "import zgyxch"
   ]
  },
  {
   "cell_type": "markdown",
   "id": "aadb5bf7",
   "metadata": {
    "slideshow": {
     "slide_type": "slide"
    }
   },
   "source": [
    "### Using Imported Packages\n",
    "\n",
    "Once imported successfully, you can use the package code in your project. For example, importing the math package gives you access to the math functions. "
   ]
  },
  {
   "cell_type": "code",
   "execution_count": null,
   "id": "37ec3b31",
   "metadata": {
    "slideshow": {
     "slide_type": "subslide"
    }
   },
   "outputs": [],
   "source": [
    "import math \n",
    "\n",
    "#Use the help method to get the help docs for a module \n",
    "help(math)\n",
    "\n",
    "# dir(math) will also give you all attributes and methods, but without docs (although some modules have no docs!)"
   ]
  },
  {
   "cell_type": "code",
   "execution_count": null,
   "id": "5cacac38",
   "metadata": {
    "slideshow": {
     "slide_type": "subslide"
    }
   },
   "outputs": [],
   "source": [
    "#Using the math module, press tab for completion options\n",
    "\n",
    "math.e"
   ]
  },
  {
   "cell_type": "markdown",
   "id": "2f39d41e",
   "metadata": {
    "slideshow": {
     "slide_type": "slide"
    }
   },
   "source": [
    "### Installing from a repository (Anaconda Interface)\n",
    "\n",
    "There are multiple repositories. Since we are using Anaconda, my recommendation is to use conda. You can do this through the Anaconda interface or the command line. In the interface, make sure you select **All** or **Not Installed** and use the search to find the correct package. To install:\n",
    "\n",
    "1. Click the checkbox next to the name of the package.\n",
    "2. Click \"Apply\" at the bottom right.\n",
    "\n",
    "Conda will now look for a package compatible with the python version and with the other installed packages. In the distant past, you needed to do this yourself, which was onerous!\n",
    "\n",
    "You can also uninstall by unchecking an installed package and clicking apply.\n",
    "\n",
    "<img src=\"installing_new_anaconda.png\" width=\"500px\" height=\"500px\" align=\"left\"></img>\n",
    "\n"
   ]
  },
  {
   "cell_type": "markdown",
   "id": "0ad6186c",
   "metadata": {
    "slideshow": {
     "slide_type": "slide"
    }
   },
   "source": [
    "### Installing through the command line\n",
    "\n",
    "The following examples would install the pandas package. As long as you are in the same python environment, it does not matter if you use conda or pip, the same package will be installed to the same place. The installation manner may change slightly depending on which package is in which repository (pypi has more packages than conda). \n",
    "\n",
    "Using the Anaconda Prompt. [See the docs](https://conda.io/projects/conda/en/latest/user-guide/tasks/manage-pkgs.html#installing-packages) \n",
    "\n",
    "```\n",
    "conda install pandas \n",
    "```\n",
    "\n",
    "Using pip ([Python Package Index](https://pypi.org/)), [See the docs](https://www.w3schools.com/python/python_pip.asp):\n",
    "\n",
    "```\n",
    "pip install pandas\n",
    "```\n",
    "\n",
    "**Note** - You can use magic methods in a notebook to install packages. The following commands are all ways of installing the segment-geospatial package. The !pip command is used in the script.\n",
    "\n",
    "```Python\n",
    "!pip -q install -U segment-geospatial\n",
    "%conda install segment-geospatial\n",
    "%pip install segment-geospatial\n",
    "```\n"
   ]
  },
  {
   "cell_type": "code",
   "execution_count": null,
   "id": "ba784c27",
   "metadata": {
    "slideshow": {
     "slide_type": "slide"
    }
   },
   "outputs": [],
   "source": [
    "### Aliasing Imports ###\n",
    "\n",
    "'''\n",
    "You can import and alias pacakages, but only during imports. \n",
    "This is especially useful for packages with long names.\n",
    "Aliasing allows package methods to be called using the alias. \n",
    "Math is aliased as m \n",
    "You can now use math and m \n",
    "'''\n",
    "\n",
    "import math as m\n",
    "\n",
    "math.e\n",
    "#m.e"
   ]
  }
 ],
 "metadata": {
  "celltoolbar": "Slideshow",
  "kernelspec": {
   "display_name": "training",
   "language": "python",
   "name": "training"
  },
  "language_info": {
   "codemirror_mode": {
    "name": "ipython",
    "version": 3
   },
   "file_extension": ".py",
   "mimetype": "text/x-python",
   "name": "python",
   "nbconvert_exporter": "python",
   "pygments_lexer": "ipython3",
   "version": "3.10.13"
  }
 },
 "nbformat": 4,
 "nbformat_minor": 5
}
