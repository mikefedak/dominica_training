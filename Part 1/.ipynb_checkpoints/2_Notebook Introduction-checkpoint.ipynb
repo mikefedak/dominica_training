{
 "cells": [
  {
   "cell_type": "markdown",
   "id": "1c3f0c4b",
   "metadata": {
    "slideshow": {
     "slide_type": "slide"
    }
   },
   "source": [
    "## Notebook Basics\n",
    "\n",
    "### The Notebook Dashboard \n",
    "\n",
    "When you start Jupyter Server locally, it will bring you to the notebook dashboard. Jupyter runs a server which hosts your notebooks. Access to the server is restricted to your local machine and user. However, if you want to set a password, [see here](https://jupyter-notebook.readthedocs.io/en/5.6.0/public_server.html). For multi-user depolyments, consider [JupyterHub](https://jupyter.org/hub). \n",
    "\n",
    "This will start in your \"home\" folder by default (if running locally).\n",
    "\n",
    "If you are using collaboratory (https://colab.research.google.com) or mybinder (https://mybinder.org/), you will have a different interface with the same purpose. This is the interface you will use to create and launch a notebook. \n",
    "\n",
    " ![notebook dashboard img](notebook_dashboard.png)\n",
    "\n",
    "[Read the docs.](https://jupyter-notebook.readthedocs.io/en/stable/examples/Notebook/Notebook%20Basics.html) \n",
    "\n"
   ]
  },
  {
   "cell_type": "markdown",
   "id": "6beceeec",
   "metadata": {
    "slideshow": {
     "slide_type": "slide"
    }
   },
   "source": [
    "### Creating and Uploading Notebooks\n",
    "\n",
    "You can create a Notebook by clicking on the \"New\" dropdown. \n",
    "\n",
    "![new notebook](dashboard_menu.png)\n",
    "\n",
    "You notice that there are multiple \"kernels\" available. This is because there are multiple ipython versions on this machine, corresponding to \"virtual environments\" (more on that later). \n",
    "\n",
    "To add a notebook to a directory you can drag and drop it or use the \"upload\" menu. \n",
    "\n"
   ]
  },
  {
   "cell_type": "markdown",
   "id": "279f8458",
   "metadata": {
    "slideshow": {
     "slide_type": "subslide"
    }
   },
   "source": [
    "You can use the file links to navigate to a different directory: ![Notebook file menu](notebook_files.png)\n",
    "\n",
    "The root folder is usually your home directory (it can be changed, but not too easily)\n",
    "\n",
    "The notebook dashboard will detect and show any analysis notebooks in a directory, with the notebook icon: ![notebook icon](notebook_icon.png)\n",
    "\n"
   ]
  },
  {
   "cell_type": "markdown",
   "id": "b65c8afa",
   "metadata": {
    "slideshow": {
     "slide_type": "slide"
    }
   },
   "source": [
    "### Managing Notebooks \n",
    "\n",
    "If you select a notebook by clicking in the box next to it, you will get the notebook management controls:\n",
    "\n",
    "![notebook_manage](notebook_manage.png)\n",
    "\n",
    "These allow you to start, stop, copy, delete and edit a notebook. \n",
    "\n",
    "Note that the notebook icon turns green when a notebook is running. Closing the notebook browser tab does not shut down a notebook, you need to tell it to shutdown, either here (Shutdown) or within the notebook (File > Close & Halt). Shutting down stops the kernel and you will lose the state (variables), Unless you saved them. \n"
   ]
  },
  {
   "cell_type": "markdown",
   "id": "75b5c3ee",
   "metadata": {
    "slideshow": {
     "slide_type": "slide"
    }
   },
   "source": [
    "### Creating a Notebook \n",
    "\n",
    "Let's create a new notebook. \n",
    "\n",
    "Click New and select the first available Python 3 kernel. \n",
    "\n",
    "A new notebook will open in a new tab. \n",
    "\n",
    "![new notebook](new_notebook.png)\n"
   ]
  },
  {
   "cell_type": "markdown",
   "id": "0f871d24",
   "metadata": {
    "slideshow": {
     "slide_type": "slide"
    }
   },
   "source": [
    "### Notebook Menus \n",
    "\n",
    "\n",
    "At the top is the name of the notebook, you can double-click to change this. \n",
    "\n",
    "Below that is the main menu. \n",
    "\n",
    "Below that are the cell specific tools. The keyboard shows the current shortcuts, and allows the creation of new ones. \n",
    "\n",
    "Finally, there are the cells: \n",
    "\n",
    "- A blue border denotes the cell is in command mode (it can be run).\n",
    "- A green border denotes the cell is in edit mode (it cannot be run). \n",
    "- The In [] to the left of the cell denotes whether the cell has been run. Once a cell is run, it is assigned a line number. \n",
    "\n",
    "You can use keyboard shortcuts or mouse clicks (inside the cell to edit, outside to switch to command) to switch modes. \n"
   ]
  },
  {
   "cell_type": "markdown",
   "id": "41bf7e80",
   "metadata": {
    "slideshow": {
     "slide_type": "slide"
    }
   },
   "source": [
    "### First Program \n",
    "\n",
    "Let's write our first program, the hello world!\n",
    "\n",
    "Make sure the cell is set to \"code\" and in edit mode. Note that you can also have markdown cells, that is how this tutorial material is presented. See [here for a markdown cheat sheet](Markdown_Cheat_Sheet.pdf) and a [guide here](https://www.markdownguide.org/). You can also use html/css in a markdown cell. \n",
    "\n",
    "Type: print('hello world!') into the cell. \n",
    "\n",
    "Put the cell into command mode and run using either the arrow next to the cell, the Run button in the interface or press Ctrl+Enter. A number will appear next to the cell and the output below, if run successfully. \n",
    "\n",
    "<img align=\"left\" width=\"500\" height=\"300\" src=\"hello_world.png\">\n",
    "\n",
    "\n"
   ]
  },
  {
   "cell_type": "code",
   "execution_count": 1,
   "id": "342ea7d2",
   "metadata": {},
   "outputs": [
    {
     "name": "stdout",
     "output_type": "stream",
     "text": [
      "hello world\n"
     ]
    }
   ],
   "source": [
    "print('hello world')"
   ]
  },
  {
   "cell_type": "markdown",
   "id": "dac64bd8",
   "metadata": {
    "slideshow": {
     "slide_type": "slide"
    }
   },
   "source": [
    "### Beyond the Basics \n",
    "\n",
    "We've run our first program and learned the basics of the notebook interface. \n",
    "\n",
    "Let's take another look at the Machine Learning notebooks we want to eventually run. \n",
    "\n",
    "Open the Building_Delineation notebook. \n",
    "\n",
    "The first cells describing the project are markdown cells. We've learned that already. \n",
    "\n"
   ]
  },
  {
   "cell_type": "markdown",
   "id": "61f1a57b",
   "metadata": {
    "slideshow": {
     "slide_type": "slide"
    }
   },
   "source": [
    "### Magic Commands\n",
    "\n",
    "The notebook uses \"magic\" commands to load dependencies and send commands to the shell running the interpreter. \n",
    "\n",
    "https://ipython.readthedocs.io/en/stable/interactive/magics.html\n",
    "\n",
    "These commands simplify common tasks and allow access to IPython features like saving and restoring variables. These are useful to know and apply to notebooks (but not absolutely essential). \n",
    "\n",
    "Commands starting with an exclamation mark ! mean that it is being sent to the shell. \n",
    "\n",
    "%cd - change the working directory\n",
    "\n",
    "%% capture run the cell, capturing stdout, stderr, and IPython’s display() calls.\n",
    "\n"
   ]
  },
  {
   "cell_type": "code",
   "execution_count": null,
   "id": "19e06f0e",
   "metadata": {
    "slideshow": {
     "slide_type": "slide"
    }
   },
   "outputs": [],
   "source": [
    "%%capture\n",
    "!git clone https://github.com/GFDRR/caribbean-rooftop-classification.git\n",
    "!pip -q install -U segment-geospatial\n",
    "!pip -q install -U git+https://github.com/IDEA-Research/GroundingDINO.git\n",
    "!pip -q install leafmap huggingface_hub json_fix\n",
    "%cd caribbean-rooftop-classification\n",
    "!git checkout add/tutorials"
   ]
  }
 ],
 "metadata": {
  "celltoolbar": "Slideshow",
  "kernelspec": {
   "display_name": "Python 3 (ipykernel)",
   "language": "python",
   "name": "python3"
  },
  "language_info": {
   "codemirror_mode": {
    "name": "ipython",
    "version": 3
   },
   "file_extension": ".py",
   "mimetype": "text/x-python",
   "name": "python",
   "nbconvert_exporter": "python",
   "pygments_lexer": "ipython3",
   "version": "3.9.18"
  }
 },
 "nbformat": 4,
 "nbformat_minor": 5
}
