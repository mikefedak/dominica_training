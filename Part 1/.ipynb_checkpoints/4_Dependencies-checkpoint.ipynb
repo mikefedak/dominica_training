{
 "cells": [
  {
   "cell_type": "markdown",
   "id": "e530dff1",
   "metadata": {
    "slideshow": {
     "slide_type": "slide"
    }
   },
   "source": [
    "## Dependencies and Imports\n",
    "\n",
    "In almost every python program, you will see **import** commands. \n",
    "\n",
    "These commands tell the interpreter to add code from some other source. This can be as simple as a config file housing variables to complex libraries for scientific computing. \n",
    "\n",
    "Anyone can create code that can be imported. However, there are package repositories with associated package management software. Anaconda has the conda package manager and repository, however the most widely used manager and repository is pip. \n"
   ]
  },
  {
   "cell_type": "markdown",
   "id": "647bbc92",
   "metadata": {
    "slideshow": {
     "slide_type": "slide"
    }
   },
   "source": [
    "## Key Terminology \n",
    "\n",
    "These are the key terms and concepts you need to know. We tend to call anything we import a \"package\", however there are vastly different scales of complexity between \"packages\". \n",
    "\n",
    "### Module\n",
    "   - Related code saved usually in a single python file. \n",
    "   - Tend to be single purpose (regular expressions, html parser). \n",
    "   - Seperates \"helper\" functions from your code. \n"
   ]
  },
  {
   "cell_type": "markdown",
   "id": "8fb07147",
   "metadata": {
    "slideshow": {
     "slide_type": "subslide"
    }
   },
   "source": [
    "### Package\n",
    "   - A collection of modules. \n",
    "   - Can import specific modules **from** a package\n",
    "  \n",
    "   \n",
    "``` Python\n",
    "from numpy import array \n",
    "```   \n",
    "\n",
    "- In this example, only the array module is being imported from the Numerical Python (numpy) package. \n",
    "- Importing only what you need is a good way to improve performance. \n",
    "   \n",
    "   \n",
    "<img src=\"python-packages-example.png\" width=\"500px\" height=\"500px\" align=\"left\"></img>\n"
   ]
  },
  {
   "cell_type": "markdown",
   "id": "3df9bad0",
   "metadata": {
    "slideshow": {
     "slide_type": "subslide"
    }
   },
   "source": [
    "### Library \n",
    "\n",
    "- A Library is a collection of packages. \n",
    "- Tend to be complex and multi-functional\n",
    "- For example: Pandas and geopandas are libraries which provide tools for data science and management. \n"
   ]
  },
  {
   "cell_type": "markdown",
   "id": "cce1fd09",
   "metadata": {
    "slideshow": {
     "slide_type": "subslide"
    }
   },
   "source": [
    "### Framework \n",
    "\n",
    "- A framework provides a set of libraries, packages and modules to be used as a foundation for building your own application. \n",
    "- Similar in complexity to a library but more focused to a specific application. \n",
    "- A relevant example is Django, which is a web development framework on which DomiNode is built. \n",
    "\n"
   ]
  },
  {
   "cell_type": "markdown",
   "id": "9bfcd729",
   "metadata": {
    "slideshow": {
     "slide_type": "slide"
    }
   },
   "source": [
    "## Using Packages \n",
    "\n",
    "#### System Packages - Included with the basic Python installation (Standard Library). See [here](https://docs.python.org/3/library/index.html)\n",
    "#### Non-System Packages - From a package repository or built from source and installed in an environment."
   ]
  },
  {
   "cell_type": "code",
   "execution_count": null,
   "id": "2fa12bdb",
   "metadata": {
    "slideshow": {
     "slide_type": "subslide"
    }
   },
   "outputs": [],
   "source": [
    "# To find all installed modules in your python environment (can take a while to load)\n",
    "\n",
    "help(\"modules\")"
   ]
  },
  {
   "cell_type": "markdown",
   "id": "c619ce68",
   "metadata": {
    "slideshow": {
     "slide_type": "subslide"
    }
   },
   "source": [
    "### You can also use the Anaconda Interface to find the installed packages\n",
    "\n",
    "<img src=\"anaconda_packages.png\" width=\"800px\" height=\"800px\" align=\"left\"></img>\n",
    "\n",
    "\n"
   ]
  },
  {
   "cell_type": "markdown",
   "id": "3bc3aea9",
   "metadata": {
    "slideshow": {
     "slide_type": "slide"
    }
   },
   "source": [
    "### Importing Packages \n",
    "\n",
    "To import a package to your program, do the following:\n",
    "\n",
    "```Python\n",
    "import pathlib\n",
    "```\n",
    "This will import the Pathlib system package. \n",
    "\n",
    "To import a specific module from a package:\n",
    "```Python\n",
    "from pathlib import Path\n",
    "```\n",
    "This will import the Path module from pathlib\n",
    "\n",
    "If we look at the the ML notebook, you will see it has several packages which need to be available. Some are system packages and other external. If a module is not available, python will give an error, see the following example:\n"
   ]
  },
  {
   "cell_type": "code",
   "execution_count": 2,
   "id": "4cf29eb4",
   "metadata": {
    "slideshow": {
     "slide_type": "subslide"
    }
   },
   "outputs": [
    {
     "ename": "ModuleNotFoundError",
     "evalue": "No module named 'zgyxch'",
     "output_type": "error",
     "traceback": [
      "\u001b[1;31m---------------------------------------------------------------------------\u001b[0m",
      "\u001b[1;31mModuleNotFoundError\u001b[0m                       Traceback (most recent call last)",
      "Cell \u001b[1;32mIn[2], line 1\u001b[0m\n\u001b[1;32m----> 1\u001b[0m \u001b[38;5;28;01mimport\u001b[39;00m \u001b[38;5;21;01mzgyxch\u001b[39;00m\n",
      "\u001b[1;31mModuleNotFoundError\u001b[0m: No module named 'zgyxch'"
     ]
    }
   ],
   "source": [
    "import zgyxch"
   ]
  },
  {
   "cell_type": "markdown",
   "id": "aadb5bf7",
   "metadata": {
    "slideshow": {
     "slide_type": "slide"
    }
   },
   "source": [
    "### Using Imported Packages\n",
    "\n",
    "Once imported successfully, you can use the package code in your project. For example, importing the math package gives you access to the math functions. "
   ]
  },
  {
   "cell_type": "code",
   "execution_count": null,
   "id": "37ec3b31",
   "metadata": {
    "slideshow": {
     "slide_type": "subslide"
    }
   },
   "outputs": [],
   "source": [
    "import math \n",
    "\n",
    "#Use the help method to get the help docs for a module \n",
    "help(math)\n",
    "\n",
    "# dir(math) will also give you all attributes and methods, but without docs (although some modules have no docs!)"
   ]
  },
  {
   "cell_type": "code",
   "execution_count": null,
   "id": "5cacac38",
   "metadata": {
    "slideshow": {
     "slide_type": "subslide"
    }
   },
   "outputs": [],
   "source": [
    "#Using the math module, press tab for completion options\n",
    "\n",
    "math.e"
   ]
  },
  {
   "cell_type": "markdown",
   "id": "2f39d41e",
   "metadata": {
    "slideshow": {
     "slide_type": "slide"
    }
   },
   "source": [
    "### Installing from a repository (Anaconda Interface)\n",
    "\n",
    "There are multiple repositories. Since we are using Anaconda, my recommendation is to use conda. You can do this through the Anaconda interface or the command line. In the interface, make sure you select **All** or **Not Installed** and use the search to find the correct package. To install:\n",
    "\n",
    "1. Click the checkbox next to the name of the package.\n",
    "2. Click \"Apply\" at the bottom right.\n",
    "\n",
    "Conda will now look for a package compatible with the python version and with the other installed packages. In the distant past, you needed to do this yourself, which was onerous!\n",
    "\n",
    "You can also uninstall by unchecking an installed package and clicking apply.\n",
    "\n",
    "<img src=\"installing_new_anaconda.png\" width=\"500px\" height=\"500px\" align=\"left\"></img>\n",
    "\n"
   ]
  },
  {
   "cell_type": "markdown",
   "id": "0ad6186c",
   "metadata": {
    "slideshow": {
     "slide_type": "slide"
    }
   },
   "source": [
    "### Installing through the command line\n",
    "\n",
    "The following examples would install the pandas package. As long as you are in the same python environment, it does not matter if you use conda or pip, the same package will be installed to the same place. The installation manner may change slightly depending on which package is in which repository (pypi has more packages than conda). \n",
    "\n",
    "Using the Anaconda Prompt. [See the docs](https://conda.io/projects/conda/en/latest/user-guide/tasks/manage-pkgs.html#installing-packages) \n",
    "\n",
    "```\n",
    "conda install pandas \n",
    "```\n",
    "\n",
    "Using pip ([Python Package Index](https://pypi.org/)), [See the docs](https://www.w3schools.com/python/python_pip.asp):\n",
    "\n",
    "```\n",
    "pip install pandas\n",
    "```\n",
    "\n",
    "**Note** - You can use magic methods in a notebook to install packages. The following commands are all ways of installing the segment-geospatial package. The !pip command is used in the script.\n",
    "\n",
    "```Python\n",
    "!pip -q install -U segment-geospatial\n",
    "%conda install segment-geospatial\n",
    "%pip install segment-geospatial\n",
    "```\n"
   ]
  },
  {
   "cell_type": "code",
   "execution_count": null,
   "id": "ba784c27",
   "metadata": {
    "slideshow": {
     "slide_type": "slide"
    }
   },
   "outputs": [],
   "source": [
    "### Aliasing Imports ###\n",
    "\n",
    "'''\n",
    "You can import and alias pacakages, but only during imports. \n",
    "This is especially useful for packages with long names.\n",
    "Aliasing allows package methods to be called using the alias. \n",
    "Math is aliased as m \n",
    "You can now use math and m \n",
    "'''\n",
    "\n",
    "import math as m\n",
    "\n",
    "math.e\n",
    "\n",
    "#m.e"
   ]
  }
 ],
 "metadata": {
  "celltoolbar": "Slideshow",
  "kernelspec": {
   "display_name": "Python 3 (ipykernel)",
   "language": "python",
   "name": "python3"
  },
  "language_info": {
   "codemirror_mode": {
    "name": "ipython",
    "version": 3
   },
   "file_extension": ".py",
   "mimetype": "text/x-python",
   "name": "python",
   "nbconvert_exporter": "python",
   "pygments_lexer": "ipython3",
   "version": "3.9.18"
  }
 },
 "nbformat": 4,
 "nbformat_minor": 5
}
