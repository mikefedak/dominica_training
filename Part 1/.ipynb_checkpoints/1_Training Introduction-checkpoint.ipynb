{
 "cells": [
  {
   "cell_type": "markdown",
   "id": "d8edc460",
   "metadata": {
    "slideshow": {
     "slide_type": "slide"
    }
   },
   "source": [
    "## Training Introduction \n",
    "\n",
    "In this lesson, we will:\n",
    "\n",
    "**Understand the objectives and approach**\n",
    "1. How does this fit with Digital Earth?\n",
    "2. What we will learn and won't. \n",
    "\n",
    "**Learn about Python and Interactive Python**\n",
    "1. Standard Interpreter\n",
    "2. IPython Kernel \n",
    "\n",
    "**Take a look at an IPython Notebook**\n",
    "- Break down the key parts\n",
    "- Take a look at the Machine Learning Notebook and it's particulars \n",
    "\n",
    "\n",
    "\n",
    "\n",
    "\n"
   ]
  },
  {
   "cell_type": "markdown",
   "id": "dd2e0d36",
   "metadata": {
    "slideshow": {
     "slide_type": "slide"
    }
   },
   "source": [
    "## Digital Earth for a Resilient Caribbean Project\n",
    "\n",
    "This project is meant to introduce Earth Observation technologies and data products\n",
    "for the purpose of informing interventions around housing and infrastructure. \n",
    "\n",
    "The project has 3 components; Capacity Building, Operational Support, and Knowledge Exchange\n",
    "\n",
    "The project is conducting the following:\n",
    "1. Geospatial Capacity and Needs Assessments (completed in St. Lucia, Dominica is in progress) \n",
    "2. Support for the development of geospatial policy \n",
    "3. Support for data collection and development \n",
    "4. Training in Earth Observation and related technologies\n",
    "\n",
    "This training falls within Component 1 of the project and supports points 3-4 \n",
    "\n",
    "Several other trainings are being prepared, including; Remote Sensing, LiDAR/Point Clouds, \n",
    "Machine Learning, Drone Mapping. "
   ]
  },
  {
   "cell_type": "markdown",
   "id": "e780b233",
   "metadata": {
    "slideshow": {
     "slide_type": "slide"
    }
   },
   "source": [
    "## Dominica Rooftop Classification \n",
    "\n",
    "[Github Link](https://github.com/GFDRR/caribbean-rooftop-classification/tree/master)\n",
    "\n",
    "This project wass based on a Machine Learning algorithm. This algorithm:\n",
    "\n",
    "1. Extracts building footprints from RGB imagery (aerials, satellite, drone). \n",
    "2. Extracts roof type based on geometry. \n",
    "3. Performs change detection (useful for damage assessment and development control). \n",
    "\n",
    "Motivations for this:\n",
    "- Keeping the building footprints basemap up to date for planning, DRM, and statistics purposes. \n",
    "- Quick analysis of disaster impacts using local data. \n",
    "\n",
    "Ideal scenario: Regular georeferenced drone collected imagery can be processed using this algorithm and the data added to the national databses. \n"
   ]
  },
  {
   "cell_type": "markdown",
   "id": "a6a6fba6",
   "metadata": {
    "slideshow": {
     "slide_type": "slide"
    }
   },
   "source": [
    "## What is Python?\n",
    "\n",
    "High-level programming language. \n",
    "\n",
    "**Interpreted not Compiled.** \n",
    "- Interpreter produces and shows results\n",
    "- Compiler converts into machine code and gives you an executable which produces the results \n",
    "- You can also package your Python programs into an executable or \n",
    "  run your script via the command line (you rarely use the interpreter to write programs)\n",
    "\n"
   ]
  },
  {
   "cell_type": "markdown",
   "id": "ad6c198c",
   "metadata": {
    "slideshow": {
     "slide_type": "slide"
    }
   },
   "source": [
    "<table style=\"font-size:20px\">\n",
    "    <tr>\n",
    "        <th>What we will cover</th>\n",
    "        <th>Important but not covered (still important!)</th>\n",
    "    </tr>  \n",
    "    <tr>\n",
    "        <td>Strings, numbers,lists,dictionaries,\n",
    "            conditionals, iterators)</td>\n",
    "        <td>Functions, Classes, Complex types and operations </td>        \n",
    "    </tr>\n",
    "    <tr>\n",
    "        <td>Jupyter Notebook and Server</td>\n",
    "        <td>Version Control (git)</td>        \n",
    "    </tr>\n",
    "      <tr>\n",
    "        <td>Data Science and Visualization</td>\n",
    "        <td>In-depth Machine Learning (next training)</td>        \n",
    "    </tr>\n",
    "    <tr>\n",
    "        <td>Local and Cloud Notebooks</td>\n",
    "        <td>Parallelization and Cluster Computing</td>        \n",
    "    </tr>\n",
    "</table>"
   ]
  },
  {
   "cell_type": "markdown",
   "id": "37cf119b",
   "metadata": {
    "slideshow": {
     "slide_type": "subslide"
    }
   },
   "source": [
    "**Python Hello World**\n",
    "\n",
    "```Python \n",
    "print('hello world!')\n",
    "```\n",
    "\n",
    "**Rust Hello World**\n",
    "```Rust\n",
    "fn main() {\n",
    "    println!(\"Hello, world!\");\n",
    "}\n",
    "```"
   ]
  },
  {
   "cell_type": "markdown",
   "id": "e05f5a6b",
   "metadata": {
    "slideshow": {
     "slide_type": "subslide"
    }
   },
   "source": [
    "**Strongly typed and uses type inference for variables**\n",
    "- Compiled language (Rust) - no inference, strong typing, immutable variables by default\n",
    "- Interpreted but strongly typed (Python) - inference but no type conversions, some mutable (lists, sets, dictionaries) and some not (int, double, complex, strings) \n",
    "- Interpreted and weakly typed (Javascript) - type conversion and inference."
   ]
  },
  {
   "cell_type": "markdown",
   "id": "f3384531",
   "metadata": {
    "slideshow": {
     "slide_type": "subslide"
    }
   },
   "source": [
    "\n",
    "\n",
    "**Python (Infers type from user input)**\n",
    "``` Python\n",
    "your_name = input('Enter your name: ')\n",
    "print(your_name)\n",
    "```\n",
    "\n",
    "\n",
    "\n",
    "**Rust (Type will always be string)**\n",
    "``` Rust\n",
    "use std::io; \n",
    "\n",
    "fn main() {\n",
    "    println!(\"Enter your name: \");    \n",
    "\n",
    "    let mut your_name = String::new(); //vars immutable by default, mut makes them mutable, String type defined\n",
    "\n",
    "    io::stdin() \n",
    "        .read_line(&mut your_name) //& denotes reference that allows access to the var \n",
    "        .expect(\"Failed to read line\");\n",
    "\n",
    "    println!(\"You entered: {your_name}\"); //{} placeholder\n",
    "\n",
    "}\n",
    "```"
   ]
  },
  {
   "cell_type": "markdown",
   "id": "5f389d68",
   "metadata": {
    "slideshow": {
     "slide_type": "subslide"
    }
   },
   "source": [
    "**Mature and large ecosystem**\n",
    "- Strong data analysis and GIS capabilities (arcpy,gdal/ogr (fiona, etc...), pandas/geopandas,scipy,numpy)\n",
    "- Significant machine learning capabilities (scikit-learn, tensorflow, pytorch)\n",
    "- Mostly Free and Open Source Software\n",
    "- Much more accessible to beginners with software like Anaconda, Collaboratory, etc... \n",
    "- One of the most popular programming languages today"
   ]
  },
  {
   "cell_type": "markdown",
   "id": "57ba49ec",
   "metadata": {
    "slideshow": {
     "slide_type": "slide"
    }
   },
   "source": [
    "## Python and Interactive Python (IPython)\n",
    "\n",
    "\n",
    "What if I run a series of calculations, or a search for a particular filename in a directory with hundreds of files? \n",
    "\n",
    "This is a simple example:\n",
    "\n",
    "I have downloaded the past year of earthquake events for the Caribbean from USGS, divided into files for every data from January 1st to November 26th. If we wanted to find the filenames which correspond to November? \n",
    "\n",
    "See- find_dates.py \n",
    "\n",
    "**IPython Interpreter**\n",
    "\n",
    "Now lets try the same in the IPython interpreter. \n",
    "\n",
    "Start the IPython shell using Anaconda. \n",
    "\n",
    "Code is neatly divided into blocks, sessions and variables can be saved (%save line range and %load for sessions, %store for %store -r for variables). \n",
    "\n"
   ]
  },
  {
   "cell_type": "markdown",
   "id": "99caebca",
   "metadata": {
    "slideshow": {
     "slide_type": "slide"
    }
   },
   "source": [
    "## Analysis Notebooks \n",
    "\n",
    "Building on IPython you have the Analysis Notebook. This completely eliminates the need for the command line and allows the use of markdown and html/css for documenting code. This is the tool we will be using for the rest of the training.\n",
    "\n",
    "There are several examples of notebooks for various real-world applications, such as:\n",
    "\n",
    "[Notebooks for Geospatial Machine Learning](https://github.com/deepVector/geospatial-machine-learning)\n",
    "\n",
    "[Kaggle ML/AI Notebooks](https://www.kaggle.com/code?searchQuery=spatial&language=Python)\n",
    "\n",
    "[NASA OpenSARLab Notebooks](https://github.com/ASFOpenSARlab/opensarlab-notebooks)\n",
    "\n",
    "[ESRI Notebooks for teaching ArcPy](https://github.com/Esri/arcgis-python-api/tree/master/labs)\n",
    "\n",
    "The following slides are the same example in notebook format. Each cell is a different part of the algorithm, you can break it down any way that makes sense. \n",
    "\n",
    "\n"
   ]
  },
  {
   "cell_type": "code",
   "execution_count": 1,
   "id": "288146cd",
   "metadata": {
    "slideshow": {
     "slide_type": "slide"
    }
   },
   "outputs": [],
   "source": [
    "from pathlib import Path\n",
    "from datetime import datetime"
   ]
  },
  {
   "cell_type": "code",
   "execution_count": 2,
   "id": "dd48a894",
   "metadata": {
    "slideshow": {
     "slide_type": "slide"
    }
   },
   "outputs": [],
   "source": [
    "directory = 'C:\\\\Users\\\\mikef\\\\OneDrive\\\\Desktop\\\\Digital Earth Caribbean\\\\Dominica\\\\Training\\\\Training Materials\\\\intro\\\\earthquake_example'\n",
    "\n",
    "# Generator objects are single use and cannot be saved \n",
    "dirobj=Path(directory).glob('*')"
   ]
  },
  {
   "cell_type": "code",
   "execution_count": 3,
   "id": "3ccc5a6d",
   "metadata": {
    "slideshow": {
     "slide_type": "slide"
    }
   },
   "outputs": [
    {
     "name": "stdout",
     "output_type": "stream",
     "text": [
      "Stored 'start_date' (datetime)\n",
      "Stored 'end_date' (datetime)\n"
     ]
    }
   ],
   "source": [
    "start_date = datetime(2023, 11, 1)\n",
    "end_date = datetime(2023, 11, 26)  \n",
    "\n",
    "%store start_date\n",
    "%store end_date"
   ]
  },
  {
   "cell_type": "code",
   "execution_count": null,
   "id": "2d1f9eb3",
   "metadata": {
    "slideshow": {
     "slide_type": "slide"
    }
   },
   "outputs": [],
   "source": [
    "for file in dirobj:\n",
    "    \n",
    "    date_str = file.stem.split('_')[2]\n",
    "    date = datetime.strptime(date_str, '%Y-%m-%d')\n",
    "\n",
    "    if date >= start_date and date <= end_date:\n",
    "        print(file.stem)"
   ]
  },
  {
   "cell_type": "markdown",
   "id": "f4f50185",
   "metadata": {
    "slideshow": {
     "slide_type": "notes"
    }
   },
   "source": [
    "### General Notes\n",
    "\n",
    "\n",
    "Lets go back to the python interpreter. Let's say I want to find all of the files in a directory whose filenames match a certain pattern. To do this we'll use the pathlib and glob modules (which are part of the standard library since 3.8) \n",
    "\n",
    "\n",
    "For the example - browse to the directory and locate files based on a pattern \n",
    "\n",
    "Directory:\n",
    "'C:\\\\Users\\\\mikef\\\\OneDrive\\\\Desktop\\\\Digital Earth Caribbean\\\\Dominica\\\\Training\\\\Training Materials\\\\intro\\\\earthquake_example'\n",
    "\n",
    "\n",
    "When we do this in the interpreter, once we find the output we want, how do we persist it? As soon as you close the interpreter, your output will be lost (your commands though will be persisted for while based on the configuration of the interpreter). \n",
    "\n",
    "\n",
    "\n",
    "We can output to a script that can be passed to the interpreter to run. This will give you whatever the contents of the directory are when the script is run, you can output to a log file to persist it. But that's complicated, you are now creating multiple files, plus the documentation to understand the algorithm (either through commenting or a seperate readme) and comments restrict you to text input only.  \n",
    "\n",
    "_________\n",
    "IPYTHON\n",
    "What if we can do this all in one and persist both the outputs and code? This is where IPython comes in. \n",
    "\n",
    "Open the command line and ipython interpreter. \n",
    "\n",
    "This is the ipython interpreter - It builds on the standard python installation to create a \"kernel\". It contains many of the capabilities of an IDE (tab auto completion and formatting) in addition to the ability to persist code, state (variable values), and outputs. \n",
    "\n",
    "Use the %save command in IPython to save your code to a python file %save filename.py 1-4\n",
    "Use the %store command to store variables %store varname \n",
    "and to restore %store -r varname \n",
    "\n",
    "\n",
    "This is an improvement on the interpreter, and offers an much nicer interface for exploring datasets and sketching out functions. \n",
    "\n",
    "I note that many of these features are present in an IDE, and infact IPython has the %edit command which can allow you to open up a block in an IDE. \n",
    "\n",
    "The %embed command can be placed into a python script to open IPython to explore variables in a part of that script. \n",
    "\n",
    "___________________\n",
    "ANALYSIS NOTEBOOKS\n",
    "\n",
    "Building on the IPython interpreter, you have the Analysis Notebook. It abstracts away the command line in favour of a web  interface, allowing notebooks to be run locally in your browser or in the cloud. We will be using this tool for the rest of training. It allows the use of all standard Python libraries, packages, and IPython features. It has a very wide set of capabilities and we only have time to cover what is essential to run the machine learning notebooks for the next training as well as for GIS and data science. At the end of this training you should feel comfortable to enough to open and run an analysis notebook. \n",
    "\n",
    "Let's look at the example as a notebook. \n",
    "\n",
    "Now I can share the notebook with code, outputs, and comments in markdown, with tables, diagrams, images, links, etc... \n",
    "\n",
    "I hope you can agree that this is a much more useful way of sharing certain types of Python projects. \n",
    "\n",
    "Although this is perfect for data exploration, sketching out algorithms and testing, it is not a complete solution for building complex software packages (although it is one tool that can assist with this). \n",
    "\n",
    "For spatial analysis, this approach works well. It is similar to using model builder GUI but allows more powerful documentation of each step. \n",
    "\n",
    "Now we have some idea of what Python is and why Analysis Notebooks exist. \n",
    "\n",
    "\n",
    "\n"
   ]
  }
 ],
 "metadata": {
  "celltoolbar": "Slideshow",
  "kernelspec": {
   "display_name": "training",
   "language": "python",
   "name": "training"
  },
  "language_info": {
   "codemirror_mode": {
    "name": "ipython",
    "version": 3
   },
   "file_extension": ".py",
   "mimetype": "text/x-python",
   "name": "python",
   "nbconvert_exporter": "python",
   "pygments_lexer": "ipython3",
   "version": "3.10.13"
  }
 },
 "nbformat": 4,
 "nbformat_minor": 5
}
