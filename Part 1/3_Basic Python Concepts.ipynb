{
 "cells": [
  {
   "cell_type": "markdown",
   "id": "64e52aa4",
   "metadata": {
    "slideshow": {
     "slide_type": "slide"
    }
   },
   "source": [
    "## Basic Python Concepts\n",
    "\n",
    "The following focuses on the basic concepts you should know for writing Python code. You should review the additional resources provided with each section. \n",
    "\n",
    "**In this lesson we will cover the following concepts:**\n",
    "\n",
    "- Variables (Numbers, Strings, Booleans)\n",
    "- Scope \n",
    "- Style conventions and comments \n",
    "\n"
   ]
  },
  {
   "cell_type": "markdown",
   "id": "37c3bf7a",
   "metadata": {
    "slideshow": {
     "slide_type": "slide"
    }
   },
   "source": [
    "### What is a variable?\n",
    "\n",
    "Placeholder for a record in memory. The value can change, and is therefore **variable**. \n",
    "\n",
    "When you declare a variable, the interpreter sets aside space in computer memory appropriate for the type of variable. \n",
    "\n",
    "#### Variable assignment:\n",
    "\n",
    "$\n",
    "label = value \n",
    "$\n",
    "\n",
    "**Note: The = operator is for assignment and not for equality. \n",
    "\n",
    "[See here](https://www.w3schools.com/python/python_operators.asp) for details on the operators in Python. \n",
    "\n"
   ]
  },
  {
   "cell_type": "code",
   "execution_count": null,
   "id": "0c981896",
   "metadata": {
    "slideshow": {
     "slide_type": "subslide"
    }
   },
   "outputs": [],
   "source": [
    "# What will happen?\n",
    "2+2="
   ]
  },
  {
   "cell_type": "code",
   "execution_count": null,
   "id": "9f050e46",
   "metadata": {},
   "outputs": [],
   "source": [
    "# Variable naming, case matters!\n",
    "\n",
    "WORD = 'word1'\n",
    "word ='word2'"
   ]
  },
  {
   "cell_type": "markdown",
   "id": "f2ed6276",
   "metadata": {
    "slideshow": {
     "slide_type": "slide"
    }
   },
   "source": [
    "### Numerical variables\n",
    "\n",
    "Three Built-In Types:\n",
    "- Integers: int()\n",
    "- Floats (Decimals): float()\n",
    "- Complex (Imaginary numbers): complex()\n",
    "\n",
    "We are going to focus on the first two. \n",
    "\n",
    "The [arithmetic operators](https://www.w3schools.com/python/python_operators.asp) can be used to perform calculations with numerical types. The interpreter is an effective calculator. "
   ]
  },
  {
   "cell_type": "code",
   "execution_count": null,
   "id": "bcb5e8de",
   "metadata": {
    "slideshow": {
     "slide_type": "subslide"
    }
   },
   "outputs": [],
   "source": [
    "# Integers (Whole Numbers: -inf...0...inf)\n",
    "\n",
    "x=1 \n",
    "x_exp = 1000**10\n",
    "y = x + x_exp\n",
    "z = x / x_exp\n",
    "\n",
    "\n",
    "# Print to output\n",
    "# Which of these is not an integer?\n",
    "# How do you know?\n",
    "print(x)\n",
    "print(x_exp)\n",
    "print(y)\n",
    "print(z)\n"
   ]
  },
  {
   "cell_type": "code",
   "execution_count": null,
   "id": "0d6be8a4",
   "metadata": {},
   "outputs": [],
   "source": [
    "# Will this work, why or why not?\n",
    "\n",
    "    var = 50"
   ]
  },
  {
   "cell_type": "code",
   "execution_count": null,
   "id": "4da81eb7",
   "metadata": {
    "slideshow": {
     "slide_type": "subslide"
    }
   },
   "outputs": [],
   "source": [
    "# Floats (Decimals/Fractions)\n",
    "\n",
    "a = 1.5\n",
    "b = 1/5\n",
    "c = b*5\n",
    "\n",
    "# Which Of these is not a float, why?"
   ]
  },
  {
   "cell_type": "code",
   "execution_count": null,
   "id": "b8656bc8",
   "metadata": {
    "slideshow": {
     "slide_type": "subslide"
    }
   },
   "outputs": [],
   "source": [
    "# What will be the result?\n",
    "y,z=a,b\n"
   ]
  },
  {
   "cell_type": "code",
   "execution_count": null,
   "id": "59b14cc1",
   "metadata": {
    "slideshow": {
     "slide_type": "subslide"
    }
   },
   "outputs": [],
   "source": [
    "print(y)\n",
    "print(z)"
   ]
  },
  {
   "cell_type": "markdown",
   "id": "78792df7",
   "metadata": {
    "slideshow": {
     "slide_type": "slide"
    }
   },
   "source": [
    "### Strings (Text)\n",
    "\n",
    "Strings (string literals) are delimited by double or triple quotes( '' \"\" or \"\"\" \"\"\" '''''')\n",
    "\n",
    "Double and single quotes are treated the same way. \n",
    "\n",
    "Be aware of [escape characters](https://python-reference.readthedocs.io/en/latest/docs/str/escapes.html) \n",
    "\n",
    "These characters allow you to bypass special characters but may cause unexpected behaviour!\n"
   ]
  },
  {
   "cell_type": "code",
   "execution_count": null,
   "id": "5081b7c2",
   "metadata": {
    "slideshow": {
     "slide_type": "subslide"
    }
   },
   "outputs": [],
   "source": [
    "# Use single quotes for single line strings\n",
    "\n",
    "r = '25'\n",
    "s = 'this is a string'\n",
    "t = '50'\n",
    "\n",
    "\n",
    "# Multi-line string variable \n",
    "multi = \"\"\"\n",
    "        Multi\n",
    "\n",
    "        Line \n",
    "\n",
    "        String\n",
    "        \"\"\"\n",
    "\n"
   ]
  },
  {
   "cell_type": "code",
   "execution_count": null,
   "id": "ecd2f6c4",
   "metadata": {
    "slideshow": {
     "slide_type": "subslide"
    }
   },
   "outputs": [],
   "source": [
    "# What will be the value and type of the result?\n",
    "\n",
    "print(r+t)\n"
   ]
  },
  {
   "cell_type": "code",
   "execution_count": null,
   "id": "fa2e4fbd",
   "metadata": {
    "slideshow": {
     "slide_type": "subslide"
    }
   },
   "outputs": [],
   "source": [
    "# What about this?\n",
    "\n",
    "c = '50' '25'\n",
    "\n",
    "print(c)"
   ]
  },
  {
   "cell_type": "code",
   "execution_count": null,
   "id": "f2ba9b76",
   "metadata": {
    "slideshow": {
     "slide_type": "subslide"
    }
   },
   "outputs": [],
   "source": [
    "# What if you have a string with quotes? \n",
    "\n",
    "str_var = Mike said, \"what happens when we do this?\"\n",
    "\n",
    "# Possible solutions?\n"
   ]
  },
  {
   "cell_type": "code",
   "execution_count": null,
   "id": "a9ef6496",
   "metadata": {
    "slideshow": {
     "slide_type": "subslide"
    }
   },
   "outputs": [],
   "source": [
    "# What if you have a string with escape characters, like a windows file path?\n",
    "\n",
    "path= 'C:\\Users\\Mike'\n",
    "\n",
    "# Possible solutions?"
   ]
  },
  {
   "cell_type": "markdown",
   "id": "6ff5357c",
   "metadata": {
    "slideshow": {
     "slide_type": "slide"
    }
   },
   "source": [
    "### String Methods and Functions\n",
    "\n",
    "There are several methods and functions for working with strings, here are some that are important to know:\n",
    "1. Subsets\n",
    "2. Slicing \n",
    "3. Formatting \n",
    "\n",
    "For more, see [here](https://www.w3schools.com/python/python_ref_string.asp) and [here](https://www.digitalocean.com/community/tutorials/python-string-functions) "
   ]
  },
  {
   "cell_type": "code",
   "execution_count": null,
   "id": "376e3d39",
   "metadata": {
    "slideshow": {
     "slide_type": "subslide"
    }
   },
   "outputs": [],
   "source": [
    "### Subsets ###\n",
    "### Python strings are treated like arrays, each character is indexed left to right 0...n\n",
    "\n",
    "string = 'Python'\n",
    "\n",
    "for i in string:\n",
    "    print(string.index(i), i)"
   ]
  },
  {
   "cell_type": "code",
   "execution_count": null,
   "id": "307b581b",
   "metadata": {},
   "outputs": [],
   "source": [
    "#Which letter will this print?\n",
    "print(string[5])\n"
   ]
  },
  {
   "cell_type": "code",
   "execution_count": null,
   "id": "2a87b03a",
   "metadata": {
    "slideshow": {
     "slide_type": "subslide"
    }
   },
   "outputs": [],
   "source": [
    "# What will be the result? \n",
    "string[5]=string"
   ]
  },
  {
   "cell_type": "code",
   "execution_count": null,
   "id": "1cbbe166",
   "metadata": {
    "slideshow": {
     "slide_type": "subslide"
    }
   },
   "outputs": [],
   "source": [
    "# Slicing - Extremely useful for pulling values from long delimited strings\n",
    "\n",
    "date_string = '2021-3-21_this_is_a_string'\n",
    "\n",
    "date_list = date_string.split('_')\n",
    "\n",
    "for i in date_list: \n",
    "    print(date_list.index(i), i)\n"
   ]
  },
  {
   "cell_type": "code",
   "execution_count": null,
   "id": "dfafbdd6",
   "metadata": {
    "slideshow": {
     "slide_type": "subslide"
    }
   },
   "outputs": [],
   "source": [
    "# How can we access the date from date_string?\n",
    "\n"
   ]
  },
  {
   "cell_type": "code",
   "execution_count": null,
   "id": "5c80c7ba",
   "metadata": {},
   "outputs": [],
   "source": [
    "# Formatting and substitution \n",
    "\n",
    "in_val = '25'\n",
    "\n",
    "out_string=f'The value is {in_val}'\n",
    "\n",
    "print(out_string)"
   ]
  },
  {
   "cell_type": "markdown",
   "id": "79d95620",
   "metadata": {
    "slideshow": {
     "slide_type": "slide"
    }
   },
   "source": [
    "### Booleans \n",
    "\n",
    "The values True or False are called booleans. You often use these to test the outcome of calculations or the existence of a particular thing. "
   ]
  },
  {
   "cell_type": "code",
   "execution_count": null,
   "id": "1bedcc98",
   "metadata": {
    "slideshow": {
     "slide_type": "subslide"
    }
   },
   "outputs": [],
   "source": [
    "truth = True \n",
    "\n",
    "if truth is False:\n",
    "    print('Lies!')\n",
    "else:\n",
    "    print('Truth!')\n",
    "\n"
   ]
  },
  {
   "cell_type": "markdown",
   "id": "68a5b0a9",
   "metadata": {
    "slideshow": {
     "slide_type": "slide"
    }
   },
   "source": [
    "### Testing Type\n",
    "\n",
    "In order to test the type of a variable, there is the type method. Let's try it with the variables we have learned. "
   ]
  },
  {
   "cell_type": "code",
   "execution_count": null,
   "id": "89bebd9c",
   "metadata": {
    "slideshow": {
     "slide_type": "subslide"
    }
   },
   "outputs": [],
   "source": [
    "# Determining Type, use the type method.  \n",
    "\n",
    "type(y)"
   ]
  },
  {
   "cell_type": "markdown",
   "id": "7f44dd3e",
   "metadata": {
    "slideshow": {
     "slide_type": "slide"
    }
   },
   "source": [
    "### Type Conversion \n",
    "\n",
    "Converting between types is easy using the type methods: str(input), float(input), int(input), \n",
    "bool(input) - Will test the truth value of an input. "
   ]
  },
  {
   "cell_type": "code",
   "execution_count": null,
   "id": "789b82a1",
   "metadata": {
    "slideshow": {
     "slide_type": "subslide"
    }
   },
   "outputs": [],
   "source": [
    "# Testing conversions\n",
    "\n",
    "in_var = 1\n",
    "out_var= float(in_var)"
   ]
  },
  {
   "cell_type": "markdown",
   "id": "946a5f7c",
   "metadata": {
    "slideshow": {
     "slide_type": "slide"
    }
   },
   "source": [
    "### Final Caveat - Be aware of reserved words when assigning variables!\n",
    "\n",
    "See here: https://www.w3schools.com/python/python_ref_keywords.asp\n",
    "\n"
   ]
  },
  {
   "cell_type": "code",
   "execution_count": null,
   "id": "2a7e8c43",
   "metadata": {
    "slideshow": {
     "slide_type": "subslide"
    }
   },
   "outputs": [],
   "source": [
    "yield = 'thing'"
   ]
  },
  {
   "attachments": {
    "LEGB.png": {
     "image/png": "[encoded data removed]"
    }
   },
   "cell_type": "markdown",
   "id": "72812ffd",
   "metadata": {
    "slideshow": {
     "slide_type": "slide"
    }
   },
   "source": [
    "### Scope\n",
    "\n",
    "#### The Built-in>Global>Enclosed>Local (LEGB) Rule:\n",
    "![LEGB.png](attachment:LEGB.png)\n",
    "\n",
    "[Source](https://jupyter.brynmawr.edu/services/public/dblank/CS245%20Programming%20Languages/2016-Fall/Notebooks/scope_resolution_legb_rule.ipynb) "
   ]
  },
  {
   "cell_type": "markdown",
   "id": "89e9ef0e",
   "metadata": {
    "slideshow": {
     "slide_type": "subslide"
    }
   },
   "source": [
    "#### What does this mean in a notebook?\n",
    "\n",
    "1. Variables declared in a cell are considered Global.\n",
    "2. Variables enclosed in functions are not Global. \n",
    "3. Built-in variables cannot be overwritten (you cannot make your own length function called len(), since that is reserved). \n",
    "\n",
    "See the tutorial for more"
   ]
  },
  {
   "cell_type": "code",
   "execution_count": null,
   "id": "86dff004",
   "metadata": {
    "slideshow": {
     "slide_type": "subslide"
    }
   },
   "outputs": [],
   "source": [
    "# Demo accessing variables in other cells. \n",
    "\n",
    "print(z)\n"
   ]
  },
  {
   "cell_type": "markdown",
   "id": "8baf46a8",
   "metadata": {
    "slideshow": {
     "slide_type": "slide"
    }
   },
   "source": [
    "### Commenting \n",
    "\n",
    "\\# The hash symbol is for a single line comment \n",
    "\n",
    "''' or \"\"\" Allows a multi-line comment \n",
    "\n",
    "\n"
   ]
  },
  {
   "cell_type": "code",
   "execution_count": null,
   "id": "0fdebd11",
   "metadata": {
    "slideshow": {
     "slide_type": "subslide"
    }
   },
   "outputs": [],
   "source": [
    "\n",
    "# This is a single line comment \n",
    "\n",
    "\"\"\"\n",
    "This is a \n",
    "multi-line\n",
    "comment\n",
    "\"\"\"\n",
    "\n",
    "'''\n",
    "This too is a \n",
    "multi-line\n",
    "comment\n",
    "'''\n",
    "\n",
    "# You can use Ctrl+/ to turn a block of code into a comment, or vice-versa"
   ]
  },
  {
   "cell_type": "markdown",
   "id": "1f2fdf77",
   "metadata": {
    "slideshow": {
     "slide_type": "slide"
    }
   },
   "source": [
    "### PEP-8: The Python Style Guide\n",
    "\n",
    "If you are curious about how to properly format your code and the do's and dont's of variable naming. You should consult the PEP-8 style guide:\n",
    "\n",
    "https://peps.python.org/pep-0008/#introduction"
   ]
  }
 ],
 "metadata": {
  "celltoolbar": "Slideshow",
  "kernelspec": {
   "display_name": "Python 3 (ipykernel)",
   "language": "python",
   "name": "python3"
  },
  "language_info": {
   "codemirror_mode": {
    "name": "ipython",
    "version": 3
   },
   "file_extension": ".py",
   "mimetype": "text/x-python",
   "name": "python",
   "nbconvert_exporter": "python",
   "pygments_lexer": "ipython3",
   "version": "3.9.18"
  }
 },
 "nbformat": 4,
 "nbformat_minor": 5
}
