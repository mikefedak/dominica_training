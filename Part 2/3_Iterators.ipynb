{
 "cells": [
  {
   "cell_type": "markdown",
   "id": "4a3fd6eb",
   "metadata": {
    "slideshow": {
     "slide_type": "slide"
    }
   },
   "source": [
    "## Python Iterators\n",
    "\n",
    "The following focuses on iterators, aka loops. There are two basic types of loops available in Python, for and while. Iterators are essential for working with the data structures we introduced in the previous section. They can also be used for value comparison, together with the operators and conditionals we have learned about \n",
    "\n",
    "**In this lesson we will cover the following:**\n",
    "\n",
    "- For Loops\n",
    "- While Loops\n"
   ]
  },
  {
   "cell_type": "markdown",
   "id": "455d64bf",
   "metadata": {
    "slideshow": {
     "slide_type": "slide"
    }
   },
   "source": [
    "### For Loops \n",
    "\n",
    "A \"for loop\" will iterate through a list or dictionary of values and allow you to perform some action on each individual item. "
   ]
  },
  {
   "cell_type": "code",
   "execution_count": null,
   "id": "cedf78fb",
   "metadata": {
    "slideshow": {
     "slide_type": "subslide"
    }
   },
   "outputs": [],
   "source": [
    "# Basic For Loop \n",
    "\n",
    "# Declare a list \n",
    "ex_list=['Python',1,'Things',['list in', 'a', 'list'],{'dictionary':['list','again']}]\n",
    "\n",
    "# Use a for loop to iterate through the list\n",
    "for item in ex_list:\n",
    "    print(item)    "
   ]
  },
  {
   "cell_type": "code",
   "execution_count": null,
   "id": "f18e5c37",
   "metadata": {
    "slideshow": {
     "slide_type": "subslide"
    }
   },
   "outputs": [],
   "source": [
    "# For loop with enumerate \n",
    "\n",
    "for index,value in enumerate(ex_list):\n",
    "    print(index,value)"
   ]
  },
  {
   "cell_type": "code",
   "execution_count": null,
   "id": "15708a21",
   "metadata": {
    "slideshow": {
     "slide_type": "subslide"
    }
   },
   "outputs": [],
   "source": [
    "# For loop with a dictionary \n",
    "\n",
    "for_dictionary={'k1':1,'k2':2,'k3':3}\n",
    "\n",
    "#Basic key,value\n",
    "for k,v in for_dictionary:\n",
    "    print(f'key: {k}, value: {v}')\n",
    "    \n",
    "#Just the values \n",
    "for v in for_dictionary.values():\n",
    "    print(f'the value is: {v}')\n",
    "    \n",
    "#Just the keys\n",
    "\n",
    "for k in for_dictionary.keys():\n",
    "    print(f'the key is: {k}')\n",
    "\n",
    "#Index\n",
    "for i,k in enumerate(for_dictionary):\n",
    "    print(f'index: {i}, key: {k}')\n",
    "    \n",
    "#Index, Key, Value\n",
    "\n",
    "for i,k in enumerate(for_dictionary):\n",
    "    value = for_dictionary[k]\n",
    "    print(f'index: {i}, key: {k}, value:{value}')\n",
    "    \n",
    "    "
   ]
  },
  {
   "cell_type": "code",
   "execution_count": null,
   "id": "6fa35d3b",
   "metadata": {
    "slideshow": {
     "slide_type": "subslide"
    }
   },
   "outputs": [],
   "source": [
    "# Looping a subset \n",
    "\n",
    "for i in ex_list[0:3]:\n",
    "    print(i)\n",
    "\n",
    "# Comprehensions (advanced topic but useful for filtering \n",
    "# More on this topic: https://www.datacamp.com/tutorial/python-dictionary-comprehension\n",
    "\n",
    "filtered_dictionary = {k:v for k,v in for_dictionary.items() if v>1 }\n",
    "\n",
    "print(f'This is the filtered dictionary: {filtered_dictionary}')\n",
    "\n",
    "filtered_list = [i for i in ex_list if type(i) is int]\n",
    "\n",
    "print(f'This is the filtered list: {filtered_list}')"
   ]
  },
  {
   "cell_type": "markdown",
   "id": "23c5d912",
   "metadata": {
    "slideshow": {
     "slide_type": "slide"
    }
   },
   "source": [
    "### While Loops \n",
    "\n",
    "While loops are loops which will run as long as a condition is True or False. Use cases for while loops can include parsing through data until the requested value is found or going through the results of a survey and checking it against a list of participants. These loops are also an easy way to create an infinite loop, the interrupt for ending the session is Kernel>Interrupt or I,I. "
   ]
  },
  {
   "cell_type": "code",
   "execution_count": null,
   "id": "72bce58b",
   "metadata": {
    "slideshow": {
     "slide_type": "subslide"
    }
   },
   "outputs": [],
   "source": [
    "#Basic while loop syntax \n",
    "\n",
    "condition = 5\n",
    "count = 0\n",
    "\n",
    "while count <= condition:\n",
    "    print(count)\n",
    "    count+=1 #Take a look at your assignment operators for += https://www.w3schools.com/python/python_operators.asp\n",
    "    \n",
    "    "
   ]
  },
  {
   "cell_type": "code",
   "execution_count": null,
   "id": "6be81f90",
   "metadata": {
    "slideshow": {
     "slide_type": "subslide"
    }
   },
   "outputs": [],
   "source": [
    "# While loop with user input, from Python Crash Course by Eric Mattes\n",
    "\n",
    "prompt = \"\\nTell me something, and I will repeat it back to you:\"\n",
    "prompt += \"\\nEnter 'quit' to end the program. \"\n",
    "message = \"\"\n",
    "\n",
    "while message != 'quit':\n",
    "    message = input(prompt)\n",
    "    print(message)"
   ]
  },
  {
   "cell_type": "code",
   "execution_count": null,
   "id": "08081666",
   "metadata": {
    "slideshow": {
     "slide_type": "subslide"
    }
   },
   "outputs": [],
   "source": [
    "#Loop flow control \n",
    "\n",
    "# You can use the break and continue statements to either exit or continue a loop, this works for loops, and conditionals too\n",
    "\n",
    "loop=True\n",
    "\n",
    "# What will be printed, how many times? \n",
    "while loop:\n",
    "    print(f'loop is: {loop}')\n",
    "    if loop is False: break\n",
    "    loop = False\n"
   ]
  },
  {
   "cell_type": "code",
   "execution_count": null,
   "id": "f034d0a4",
   "metadata": {
    "slideshow": {
     "slide_type": "subslide"
    }
   },
   "outputs": [],
   "source": [
    "# Using with lists\n",
    "\n",
    "count=0\n",
    "val=ex_list[count]\n",
    "\n",
    "while val != ex_list[-1]:\n",
    "    count+=1\n",
    "    val=ex_list[count]\n",
    "    print(f'the list values are: {val}')   \n",
    "\n",
    "\n"
   ]
  },
  {
   "cell_type": "code",
   "execution_count": null,
   "id": "3f5f0d36",
   "metadata": {
    "slideshow": {
     "slide_type": "subslide"
    }
   },
   "outputs": [],
   "source": [
    "# Using with dictionaries\n",
    "\n",
    "while_keys=list(for_dictionary.keys())\n",
    "\n",
    "d_count=0\n",
    "d_val=while_keys[d_count]\n",
    "\n",
    "while d_val != while_keys[-1]:      \n",
    "    print(for_dictionary[d_val])\n",
    "    d_count+=1\n",
    "    # What happens if I comment out the following?\n",
    "    d_val=while_keys[d_count]"
   ]
  }
 ],
 "metadata": {
  "celltoolbar": "Slideshow",
  "kernelspec": {
   "display_name": "training",
   "language": "python",
   "name": "training"
  },
  "language_info": {
   "codemirror_mode": {
    "name": "ipython",
    "version": 3
   },
   "file_extension": ".py",
   "mimetype": "text/x-python",
   "name": "python",
   "nbconvert_exporter": "python",
   "pygments_lexer": "ipython3",
   "version": "3.10.13"
  }
 },
 "nbformat": 4,
 "nbformat_minor": 5
}
