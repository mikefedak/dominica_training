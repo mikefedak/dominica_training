{
 "cells": [
  {
   "cell_type": "markdown",
   "id": "36a0e344",
   "metadata": {},
   "source": [
    "## Python Conditionals\n",
    "\n",
    "Conditionals are for evaluating a set of inputs and making a decision based on the values of those inputs. You have seen a few examples of conditionals in earlier exercises, if statements to find a range of values, evaluate if an expression is true or false or to confirm the type of a variable. Conditionals are key to catching errors in Python, that is why we mention the try...except pattern. It is not essential for data analysis but it is for software development. Finally, Python 3.10 introduced the match...case pattern, which is similar to the switch statement pattern used in C or Javascript. \n",
    "\n",
    "**In this lesson we will cover the following concepts:**\n",
    "\n",
    "- If, else if, else patterns\n",
    "- Try, except, else and the \"fail fast\" approach \n",
    "- The new to Python 3.10 match...case statement "
   ]
  },
  {
   "cell_type": "markdown",
   "id": "0c4e2027",
   "metadata": {},
   "source": [
    "### If Statements \n",
    "\n",
    "This is the basic kind of conditional statement. It implements the following pattern:\n",
    "\n",
    "if *some condition* then *do something*\n",
    "\n",
    "The [operators](https://www.w3schools.com/python/python_operators.asp) are again crucial here. "
   ]
  },
  {
   "cell_type": "code",
   "execution_count": 4,
   "id": "ddc76bb4",
   "metadata": {},
   "outputs": [
    {
     "name": "stdout",
     "output_type": "stream",
     "text": [
      "True\n"
     ]
    }
   ],
   "source": [
    "# Short-hand if statement with a single condition \n",
    "\n",
    "var = 'String'\n",
    "\n",
    "if type(var) is str: print('True')"
   ]
  },
  {
   "cell_type": "code",
   "execution_count": 14,
   "id": "5cfee4ff",
   "metadata": {},
   "outputs": [
    {
     "name": "stdout",
     "output_type": "stream",
     "text": [
      "not a string\n"
     ]
    }
   ],
   "source": [
    "# More complex if statement with multiple lines (cannot shorthand)\n",
    "\n",
    "var = 12\n",
    "\n",
    "if type(var) is str: \n",
    "    print('True') \n",
    "    concat_var=var+'EXTRA!'\n",
    "    print(concat_var) \n",
    "    var='String'\n",
    "    \n",
    "else: print('not a string')"
   ]
  },
  {
   "cell_type": "code",
   "execution_count": null,
   "id": "5d10cbb0",
   "metadata": {},
   "outputs": [],
   "source": [
    "# What is the value of var? \n",
    "\n",
    "print(var)"
   ]
  },
  {
   "cell_type": "code",
   "execution_count": null,
   "id": "360212de",
   "metadata": {},
   "outputs": [],
   "source": [
    "# If, else if, else pattern \n",
    "# The first matching block is evaluated. \n",
    "# You can have multiple elif conditions, but only one if or else \n",
    "\n",
    "var='Thing'\n",
    "\n",
    "if var == 'Thing' and type(var)==int:\n",
    "    print(var+'_if')\n",
    "elif var == 'Thing' and type(var)==str:\n",
    "    print(var+'_elif')\n",
    "else:\n",
    "    print('not a thing')"
   ]
  },
  {
   "cell_type": "markdown",
   "id": "45bf8426",
   "metadata": {},
   "source": [
    "### Try Except Pattern \n",
    "\n",
    "This pattern is commonly used in the development of software since it is very useful for capturing errors. Python encourages the \"fail fast\" method by which you try to capture all errors in your software quickly by wrapping your code in logical Try Except blocks. This pattern is implemented by the \"with\" built-in statement which is often used to handle reading and writing files. Handling errors prevents your program from crashing without giving a reason. \n",
    "\n",
    "The logic is:\n",
    "\n",
    "Try to run what is in the code \"Try\" code block \n",
    "\n",
    "When you hit an error, handle it using the Except block. \n",
    "\n",
    "If no error condition is triggered, you can add a \"Else\" statement. A \"Finally\" statement can be added to execute regardless of an error. "
   ]
  },
  {
   "cell_type": "code",
   "execution_count": 1,
   "id": "d0c46860",
   "metadata": {},
   "outputs": [
    {
     "name": "stdout",
     "output_type": "stream",
     "text": [
      "'str' object does not support item assignment\n",
      "done\n"
     ]
    }
   ],
   "source": [
    "# Basic Try, Except, Else, Finally. Recall this is the error from earlier when trying to modify an unmutable string. \n",
    "\n",
    "var='String'\n",
    "\n",
    "try:\n",
    "    var[5]=var\n",
    "except Exception as e:\n",
    "    print(e)\n",
    "else:\n",
    "    print(\"no error\")\n",
    "finally:\n",
    "    print(\"done\")"
   ]
  },
  {
   "cell_type": "markdown",
   "id": "bee7bccb",
   "metadata": {},
   "source": [
    "### Match Case Pattern\n",
    "\n",
    "This is a new pattern first implemented in Python 3.10. It is similar to switch statements in C or Javascript. \n",
    "\n",
    "It takes an input condition and tries to evaluate it against \n",
    "\n"
   ]
  },
  {
   "cell_type": "code",
   "execution_count": 2,
   "id": "ef27b989",
   "metadata": {},
   "outputs": [
    {
     "name": "stdout",
     "output_type": "stream",
     "text": [
      "Everything is good!\n"
     ]
    }
   ],
   "source": [
    "# Example borrowed from https://guicommits.com/python-match-case-examples/ \n",
    "\n",
    "# Generates a random selection from http status and then handles it using match/case\n",
    "\n",
    "from http import HTTPStatus\n",
    "import random\n",
    "\n",
    "http_status = random.choice(\n",
    "    [\n",
    "        HTTPStatus.OK,\n",
    "        HTTPStatus.BAD_REQUEST,\n",
    "        HTTPStatus.INTERNAL_SERVER_ERROR,\n",
    "    ]\n",
    ")\n",
    "\n",
    "match http_status:\n",
    "    case HTTPStatus.OK: # \"case\" + \"value\" syntax\n",
    "        print(\"Everything is good!\")\n",
    "\n",
    "    case HTTPStatus.BAD_REQUEST:\n",
    "        print(\"You did something wrong!\")\n",
    "\n",
    "    case HTTPStatus.INTERNAL_SERVER_ERROR:\n",
    "        print(\"Oops... Is the server down!?.\")\n",
    "\n",
    "    case _: # Default syntax\n",
    "        print(\"Invalid or unknown status.\")"
   ]
  }
 ],
 "metadata": {
  "kernelspec": {
   "display_name": "training",
   "language": "python",
   "name": "training"
  },
  "language_info": {
   "codemirror_mode": {
    "name": "ipython",
    "version": 3
   },
   "file_extension": ".py",
   "mimetype": "text/x-python",
   "name": "python",
   "nbconvert_exporter": "python",
   "pygments_lexer": "ipython3",
   "version": "3.10.13"
  }
 },
 "nbformat": 4,
 "nbformat_minor": 5
}
