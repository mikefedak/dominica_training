{
 "cells": [
  {
   "cell_type": "markdown",
   "id": "9d4a1c8b",
   "metadata": {
    "slideshow": {
     "slide_type": "slide"
    }
   },
   "source": [
    "## Python Data Structures \n",
    "\n",
    "The following focuses on two fundamental data structures used in Python. Lists and Dictionaries. For the rest of the training, we will be using these structures, and their derivatives, to store and analyze datasets. The last part is skipping ahead a little to the hands-on part of this training, but it is very important to understand the relationship between dictionaries and JSON if you will be analyzing data. \n",
    "\n",
    "**In this lesson we will cover the following:**\n",
    "\n",
    "- Lists\n",
    "- Dictionaries  \n",
    "- Working with JSON and Dictionaries \n"
   ]
  },
  {
   "cell_type": "markdown",
   "id": "954a9156",
   "metadata": {
    "slideshow": {
     "slide_type": "slide"
    }
   },
   "source": [
    "### Lists \n",
    "\n",
    "A Python list is a collection of items in a particular order enumerated by an index. Lists can be any length (limited by system memory) and contain several different data types. Each entry in a list is seperated by a comma. \n",
    "\n",
    "[Python docs for list methods](https://docs.python.org/3/tutorial/datastructures.html#more-on-lists) "
   ]
  },
  {
   "cell_type": "code",
   "execution_count": 2,
   "id": "671c7115",
   "metadata": {
    "slideshow": {
     "slide_type": "subslide"
    }
   },
   "outputs": [],
   "source": [
    "# Basic List\n",
    "\n",
    "a = ['This', 'is','a','list']"
   ]
  },
  {
   "cell_type": "code",
   "execution_count": null,
   "id": "6f173fa1",
   "metadata": {
    "slideshow": {
     "slide_type": "subslide"
    }
   },
   "outputs": [],
   "source": [
    "# Accessing list items \n",
    "\n",
    "# By Index\n",
    "print(f'The value at index 3 is: {a[3]}')\n",
    "\n",
    "print(f'The last value is: {a[-1]}')\n",
    "\n",
    "print(f'A range of values: {a[0:3]}')\n",
    "\n",
    "# By Content \n",
    "if 'is' in a:\n",
    "    print(f'a appears at index: {a.index(\"is\")}')\n",
    "    \n",
    "#Counting \n",
    "\n",
    "print(f'a appears {a.count(\"a\")} times')"
   ]
  },
  {
   "cell_type": "code",
   "execution_count": 3,
   "id": "87b0e936",
   "metadata": {
    "slideshow": {
     "slide_type": "subslide"
    }
   },
   "outputs": [
    {
     "name": "stdout",
     "output_type": "stream",
     "text": [
      "['This', 'is', 'a', 'list', 'another item']\n",
      "['new', 'This', 'is', 'a', 'list', 'another item', 1, 3, 5, 7]\n"
     ]
    }
   ],
   "source": [
    "# Adding items\n",
    "\n",
    "#Appending \n",
    "\n",
    "a.append('another item')\n",
    "\n",
    "print(a)\n",
    "\n",
    "#Inserting to a particular position \n",
    "\n",
    "a.insert(0,'new',)\n",
    "\n",
    "# Concatenating Lists\n",
    "b = [1,3,5,7]\n",
    "c = a+b\n",
    "\n",
    "print(c)"
   ]
  },
  {
   "cell_type": "code",
   "execution_count": 4,
   "id": "57e1c16e",
   "metadata": {
    "slideshow": {
     "slide_type": "subslide"
    }
   },
   "outputs": [
    {
     "name": "stdout",
     "output_type": "stream",
     "text": [
      "['new', 'This', 'is', 'a', 'list', 'another item', 1, 3, 5]\n",
      "['This', 'is', 'a', 'list', 'another item', 1, 3, 5]\n"
     ]
    }
   ],
   "source": [
    "# Removing items \n",
    "\n",
    "#Remove by index\n",
    "del c[9]\n",
    "\n",
    "print(c)\n",
    "\n",
    "#Remove by value\n",
    "c.remove('new')\n",
    "\n",
    "print(c)\n"
   ]
  },
  {
   "cell_type": "markdown",
   "id": "9fb775f3",
   "metadata": {
    "slideshow": {
     "slide_type": "slide"
    }
   },
   "source": [
    "### Dictionaries \n",
    "\n",
    "Dictionaries are key-value stores. Keys can be of any immutable type (strings or numbers) and must be unique. Values can be of any type. You access the value by using the key. This structure is comparable to a JSON or Hashtable. Dictionaries are directly convertible to pandas dataframes and JSONs using the json package. This is an important data structure for many applications, and particularly for anyone working with APIs and data from web sources. "
   ]
  },
  {
   "cell_type": "code",
   "execution_count": 5,
   "id": "83fe0690",
   "metadata": {
    "slideshow": {
     "slide_type": "subslide"
    }
   },
   "outputs": [],
   "source": [
    "# Basic Dictionary \n",
    "\n",
    "first_dictionary = {\n",
    "    'key':'value',\n",
    "    'key1':'value1',\n",
    "    'key2':'value2'\n",
    "}"
   ]
  },
  {
   "cell_type": "code",
   "execution_count": 6,
   "id": "fbcf4fba",
   "metadata": {
    "slideshow": {
     "slide_type": "subslide"
    }
   },
   "outputs": [
    {
     "name": "stdout",
     "output_type": "stream",
     "text": [
      "Using the key: value\n",
      "Using get(): value\n"
     ]
    }
   ],
   "source": [
    "# Accessing Dictionary Items \n",
    "\n",
    "# By Key\n",
    "val_by_key=first_dictionary['key']\n",
    "print(f'Using the key: {val_by_key}')\n",
    "\n",
    "# Using Get - Fails cleaner (no error)\n",
    "val_by_get = first_dictionary.get('key')\n",
    "print(f'Using get(): {val_by_get}')\n",
    "\n",
    "\n",
    "# By Value - Need to use an iterator, the next topic\n"
   ]
  },
  {
   "cell_type": "code",
   "execution_count": 7,
   "id": "29cc45fa",
   "metadata": {
    "slideshow": {
     "slide_type": "subslide"
    }
   },
   "outputs": [
    {
     "name": "stdout",
     "output_type": "stream",
     "text": [
      "{'key': 'value', 'key1': 'value1', 'key2': 'value2', 'new_key': 'new value'}\n"
     ]
    }
   ],
   "source": [
    "# Adding Items to a Dictionary \n",
    "first_dictionary['new_key']='new value'\n",
    "\n",
    "print(first_dictionary)"
   ]
  },
  {
   "cell_type": "code",
   "execution_count": 8,
   "id": "7c094352",
   "metadata": {
    "slideshow": {
     "slide_type": "subslide"
    }
   },
   "outputs": [
    {
     "name": "stdout",
     "output_type": "stream",
     "text": [
      "{'key': 'value', 'key1': 'key 1 has a new value', 'key2': 'value2', 'new_key': 'new value'}\n",
      "{'key': 'value', 'key1': 'key 1 has a new value', 'new_key': 'new value'}\n"
     ]
    }
   ],
   "source": [
    "# Modifying and Deleting Items \n",
    "\n",
    "first_dictionary['key1']='key 1 has a new value'\n",
    "print(first_dictionary)\n",
    "\n",
    "del first_dictionary['key2']\n",
    "print(first_dictionary)"
   ]
  },
  {
   "cell_type": "code",
   "execution_count": 9,
   "id": "89c74c87",
   "metadata": {
    "slideshow": {
     "slide_type": "subslide"
    }
   },
   "outputs": [
    {
     "name": "stdout",
     "output_type": "stream",
     "text": [
      "{\"key\": \"value\", \"key1\": \"key 1 has a new value\", \"new_key\": \"new value\"}\n"
     ]
    }
   ],
   "source": [
    "# JSON Association with the JSON module\n",
    "\n",
    "import json \n",
    "\n",
    "send_to_json = json.dumps(first_dictionary)\n",
    "print(send_to_json)\n",
    "\n",
    "# What is the output type?\n",
    "# print(type(send_to_json))\n",
    "\n",
    "loaded_dictionary=json.loads(send_to_json)\n",
    "# print(loaded_dictionary)\n",
    "\n",
    "# What did I load?\n",
    "# print(type(loaded_dictionary))\n",
    "\n"
   ]
  },
  {
   "cell_type": "code",
   "execution_count": null,
   "id": "1a59c6c4",
   "metadata": {
    "slideshow": {
     "slide_type": "subslide"
    }
   },
   "outputs": [],
   "source": [
    "# What about actual data?\n",
    "# CDEMA's GeoCRIS has a JSON API for vector layers https://geocris2.cdema.org/features/collections\n",
    "\n",
    "import requests # HTTP Requests Library\n",
    "import pprint # Pretty Printer Module\n",
    "\n",
    "\n",
    "# Let's get the Volcanic Hazard Layer for Dominica \n",
    "volcano_json = requests.get('https://geocris2.cdema.org/features/collections/dma.dma_geo_volcanic_susceptibility_polygon/items.json')\n",
    "\n",
    "# \n",
    "volcano_dictionary = volcano_json.json()\n",
    "\n",
    "print(type(volcano_dictionary))\n",
    "pprint.pprint(volcano_dictionary)\n",
    "\n"
   ]
  },
  {
   "cell_type": "markdown",
   "id": "38ec34e7",
   "metadata": {
    "slideshow": {
     "slide_type": "slide"
    }
   },
   "source": [
    "### Mutability \n",
    "\n",
    "Unlike strings and numbers, lists and dictionaries are mutable. Meaning they can be changed after they are declared. "
   ]
  },
  {
   "cell_type": "code",
   "execution_count": null,
   "id": "3fe1d1b0",
   "metadata": {
    "slideshow": {
     "slide_type": "subslide"
    }
   },
   "outputs": [],
   "source": [
    "ex_list=[1,2,3,4,5,6]\n",
    "\n",
    "print(ex_list)\n",
    "\n",
    "ex_list[3:5]=ex_list\n",
    "print(ex_list)\n",
    "\n"
   ]
  }
 ],
 "metadata": {
  "celltoolbar": "Slideshow",
  "kernelspec": {
   "display_name": "training",
   "language": "python",
   "name": "training"
  },
  "language_info": {
   "codemirror_mode": {
    "name": "ipython",
    "version": 3
   },
   "file_extension": ".py",
   "mimetype": "text/x-python",
   "name": "python",
   "nbconvert_exporter": "python",
   "pygments_lexer": "ipython3",
   "version": "3.10.13"
  }
 },
 "nbformat": 4,
 "nbformat_minor": 5
}
